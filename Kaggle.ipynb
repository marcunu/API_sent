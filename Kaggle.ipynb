{
 "cells": [
  {
   "cell_type": "markdown",
   "metadata": {},
   "source": [
    "<img src=\"https://i.pinimg.com/originals/75/3a/32/753a326847fa99d65d506324c5d95363.gif\">"
   ]
  },
  {
   "cell_type": "markdown",
   "metadata": {},
   "source": [
    "# Collecting Data"
   ]
  },
  {
   "cell_type": "code",
   "execution_count": 1,
   "metadata": {},
   "outputs": [],
   "source": [
    "import tools.functions as fnc\n",
    "import pandas as pd"
   ]
  },
  {
   "cell_type": "code",
   "execution_count": 2,
   "metadata": {},
   "outputs": [],
   "source": [
    "df = fnc.download_kaggle()"
   ]
  },
  {
   "cell_type": "code",
   "execution_count": 3,
   "metadata": {},
   "outputs": [],
   "source": [
    "data = df"
   ]
  },
  {
   "cell_type": "code",
   "execution_count": 4,
   "metadata": {},
   "outputs": [
    {
     "data": {
      "text/html": [
       "<div>\n",
       "<style scoped>\n",
       "    .dataframe tbody tr th:only-of-type {\n",
       "        vertical-align: middle;\n",
       "    }\n",
       "\n",
       "    .dataframe tbody tr th {\n",
       "        vertical-align: top;\n",
       "    }\n",
       "\n",
       "    .dataframe thead th {\n",
       "        text-align: right;\n",
       "    }\n",
       "</style>\n",
       "<table border=\"1\" class=\"dataframe\">\n",
       "  <thead>\n",
       "    <tr style=\"text-align: right;\">\n",
       "      <th></th>\n",
       "      <th>Year_of_prod</th>\n",
       "      <th>Season</th>\n",
       "      <th>Episode Number</th>\n",
       "      <th>Episode_Title</th>\n",
       "      <th>Duration</th>\n",
       "      <th>Summary</th>\n",
       "      <th>Director</th>\n",
       "      <th>Stars</th>\n",
       "      <th>Votes</th>\n",
       "    </tr>\n",
       "  </thead>\n",
       "  <tbody>\n",
       "    <tr>\n",
       "      <th>234</th>\n",
       "      <td>2004</td>\n",
       "      <td>10</td>\n",
       "      <td>17</td>\n",
       "      <td>The Last One: Part 1</td>\n",
       "      <td>30</td>\n",
       "      <td>Erica gives birth to the baby that Monica and ...</td>\n",
       "      <td>Kevin Bright</td>\n",
       "      <td>9.5</td>\n",
       "      <td>6221</td>\n",
       "    </tr>\n",
       "    <tr>\n",
       "      <th>235</th>\n",
       "      <td>2004</td>\n",
       "      <td>10</td>\n",
       "      <td>18</td>\n",
       "      <td>The Last One: Part 2</td>\n",
       "      <td>30</td>\n",
       "      <td>Phoebe races Ross to the airport in a bid to s...</td>\n",
       "      <td>Kevin Bright</td>\n",
       "      <td>9.7</td>\n",
       "      <td>10381</td>\n",
       "    </tr>\n",
       "  </tbody>\n",
       "</table>\n",
       "</div>"
      ],
      "text/plain": [
       "     Year_of_prod  Season  Episode Number         Episode_Title  Duration  \\\n",
       "234          2004      10              17  The Last One: Part 1        30   \n",
       "235          2004      10              18  The Last One: Part 2        30   \n",
       "\n",
       "                                               Summary      Director  Stars  \\\n",
       "234  Erica gives birth to the baby that Monica and ...  Kevin Bright    9.5   \n",
       "235  Phoebe races Ross to the airport in a bid to s...  Kevin Bright    9.7   \n",
       "\n",
       "     Votes  \n",
       "234   6221  \n",
       "235  10381  "
      ]
     },
     "execution_count": 4,
     "metadata": {},
     "output_type": "execute_result"
    }
   ],
   "source": [
    "data.tail(2)"
   ]
  },
  {
   "cell_type": "code",
   "execution_count": 5,
   "metadata": {},
   "outputs": [],
   "source": [
    "data[\"Episode ID\"] = data.apply(lambda row: f\"{row['Season']}_{row['Episode Number']}\", axis = 1)"
   ]
  },
  {
   "cell_type": "code",
   "execution_count": 6,
   "metadata": {},
   "outputs": [
    {
     "data": {
      "text/html": [
       "<div>\n",
       "<style scoped>\n",
       "    .dataframe tbody tr th:only-of-type {\n",
       "        vertical-align: middle;\n",
       "    }\n",
       "\n",
       "    .dataframe tbody tr th {\n",
       "        vertical-align: top;\n",
       "    }\n",
       "\n",
       "    .dataframe thead th {\n",
       "        text-align: right;\n",
       "    }\n",
       "</style>\n",
       "<table border=\"1\" class=\"dataframe\">\n",
       "  <thead>\n",
       "    <tr style=\"text-align: right;\">\n",
       "      <th></th>\n",
       "      <th>Year_of_prod</th>\n",
       "      <th>Season</th>\n",
       "      <th>Episode Number</th>\n",
       "      <th>Episode_Title</th>\n",
       "      <th>Duration</th>\n",
       "      <th>Summary</th>\n",
       "      <th>Director</th>\n",
       "      <th>Stars</th>\n",
       "      <th>Votes</th>\n",
       "      <th>Episode ID</th>\n",
       "      <th>Season ID</th>\n",
       "    </tr>\n",
       "  </thead>\n",
       "  <tbody>\n",
       "    <tr>\n",
       "      <th>207</th>\n",
       "      <td>2003</td>\n",
       "      <td>9</td>\n",
       "      <td>14</td>\n",
       "      <td>The One with the Blind Dates</td>\n",
       "      <td>24</td>\n",
       "      <td>Phoebe and Joey purposely set Ross and Rachel ...</td>\n",
       "      <td>Gary Halvorson</td>\n",
       "      <td>8.2</td>\n",
       "      <td>2642</td>\n",
       "      <td>9_14</td>\n",
       "      <td>s_9</td>\n",
       "    </tr>\n",
       "    <tr>\n",
       "      <th>191</th>\n",
       "      <td>2002</td>\n",
       "      <td>8</td>\n",
       "      <td>22</td>\n",
       "      <td>The One Where Rachel Is Late</td>\n",
       "      <td>22</td>\n",
       "      <td>Monica and Phoebe bet on when Rachel's baby wi...</td>\n",
       "      <td>Gary Halvorson</td>\n",
       "      <td>8.3</td>\n",
       "      <td>2662</td>\n",
       "      <td>8_22</td>\n",
       "      <td>s_8</td>\n",
       "    </tr>\n",
       "    <tr>\n",
       "      <th>131</th>\n",
       "      <td>2000</td>\n",
       "      <td>6</td>\n",
       "      <td>11</td>\n",
       "      <td>The One with the Apothecary Table</td>\n",
       "      <td>22</td>\n",
       "      <td>Joey is caught in the middle when Janine tells...</td>\n",
       "      <td>Kevin Bright</td>\n",
       "      <td>8.1</td>\n",
       "      <td>2892</td>\n",
       "      <td>6_11</td>\n",
       "      <td>s_6</td>\n",
       "    </tr>\n",
       "  </tbody>\n",
       "</table>\n",
       "</div>"
      ],
      "text/plain": [
       "     Year_of_prod  Season  Episode Number                      Episode_Title  \\\n",
       "207          2003       9              14       The One with the Blind Dates   \n",
       "191          2002       8              22       The One Where Rachel Is Late   \n",
       "131          2000       6              11  The One with the Apothecary Table   \n",
       "\n",
       "     Duration                                            Summary  \\\n",
       "207        24  Phoebe and Joey purposely set Ross and Rachel ...   \n",
       "191        22  Monica and Phoebe bet on when Rachel's baby wi...   \n",
       "131        22  Joey is caught in the middle when Janine tells...   \n",
       "\n",
       "           Director  Stars  Votes Episode ID Season ID  \n",
       "207  Gary Halvorson    8.2   2642       9_14       s_9  \n",
       "191  Gary Halvorson    8.3   2662       8_22       s_8  \n",
       "131    Kevin Bright    8.1   2892       6_11       s_6  "
      ]
     },
     "execution_count": 6,
     "metadata": {},
     "output_type": "execute_result"
    }
   ],
   "source": [
    "data[\"Season ID\"] = data.apply(lambda row: f\"s_{row['Season']}\", axis = 1)\n",
    "data.sample(3)"
   ]
  },
  {
   "cell_type": "code",
   "execution_count": 7,
   "metadata": {},
   "outputs": [
    {
     "data": {
      "text/plain": [
       "'Monica and the gang introduce Rachel to the \"real world\" after she leaves her fianc� at the altar.'"
      ]
     },
     "execution_count": 7,
     "metadata": {},
     "output_type": "execute_result"
    }
   ],
   "source": [
    "data.loc[0][\"Summary\"]"
   ]
  },
  {
   "cell_type": "code",
   "execution_count": 8,
   "metadata": {},
   "outputs": [],
   "source": [
    "data = data.replace('\"','')"
   ]
  },
  {
   "cell_type": "code",
   "execution_count": 9,
   "metadata": {},
   "outputs": [],
   "source": [
    "data[\"Episode Number\"] = data.apply(lambda row: f\"e_{row['Episode Number']}\", axis = 1)"
   ]
  },
  {
   "cell_type": "code",
   "execution_count": 10,
   "metadata": {},
   "outputs": [],
   "source": [
    "data[\"Director ID\"] = data.apply(lambda row: f\"DI_{row['Director'][0]}{row['Director'][1]}{row['Director'][-2]}\", axis = 1)"
   ]
  },
  {
   "cell_type": "code",
   "execution_count": 11,
   "metadata": {
    "scrolled": true
   },
   "outputs": [
    {
     "data": {
      "text/html": [
       "<div>\n",
       "<style scoped>\n",
       "    .dataframe tbody tr th:only-of-type {\n",
       "        vertical-align: middle;\n",
       "    }\n",
       "\n",
       "    .dataframe tbody tr th {\n",
       "        vertical-align: top;\n",
       "    }\n",
       "\n",
       "    .dataframe thead th {\n",
       "        text-align: right;\n",
       "    }\n",
       "</style>\n",
       "<table border=\"1\" class=\"dataframe\">\n",
       "  <thead>\n",
       "    <tr style=\"text-align: right;\">\n",
       "      <th></th>\n",
       "      <th>Year_of_prod</th>\n",
       "      <th>Season</th>\n",
       "      <th>Episode Number</th>\n",
       "      <th>Episode_Title</th>\n",
       "      <th>Duration</th>\n",
       "      <th>Summary</th>\n",
       "      <th>Director</th>\n",
       "      <th>Stars</th>\n",
       "      <th>Votes</th>\n",
       "      <th>Episode ID</th>\n",
       "      <th>Season ID</th>\n",
       "      <th>Director ID</th>\n",
       "    </tr>\n",
       "  </thead>\n",
       "  <tbody>\n",
       "    <tr>\n",
       "      <th>73</th>\n",
       "      <td>1997</td>\n",
       "      <td>4</td>\n",
       "      <td>e_1</td>\n",
       "      <td>The One with the Jellyfish</td>\n",
       "      <td>22</td>\n",
       "      <td>Ross chooses between Rachel and his bald-heade...</td>\n",
       "      <td>Shelley Jensen</td>\n",
       "      <td>9.1</td>\n",
       "      <td>4099</td>\n",
       "      <td>4_1</td>\n",
       "      <td>s_4</td>\n",
       "      <td>DI_She</td>\n",
       "    </tr>\n",
       "    <tr>\n",
       "      <th>29</th>\n",
       "      <td>1995</td>\n",
       "      <td>2</td>\n",
       "      <td>e_6</td>\n",
       "      <td>The One with the Baby on the Bus</td>\n",
       "      <td>22</td>\n",
       "      <td>Joey and Chandler are left to babysit Ben when...</td>\n",
       "      <td>Gail Mancuso</td>\n",
       "      <td>8.6</td>\n",
       "      <td>3822</td>\n",
       "      <td>2_6</td>\n",
       "      <td>s_2</td>\n",
       "      <td>DI_Gas</td>\n",
       "    </tr>\n",
       "    <tr>\n",
       "      <th>25</th>\n",
       "      <td>1995</td>\n",
       "      <td>2</td>\n",
       "      <td>e_2</td>\n",
       "      <td>The One with the Breast Milk</td>\n",
       "      <td>22</td>\n",
       "      <td>Monica goes shopping with Julie and tries to k...</td>\n",
       "      <td>Michael Lembeck</td>\n",
       "      <td>8.2</td>\n",
       "      <td>3669</td>\n",
       "      <td>2_2</td>\n",
       "      <td>s_2</td>\n",
       "      <td>DI_Mic</td>\n",
       "    </tr>\n",
       "    <tr>\n",
       "      <th>207</th>\n",
       "      <td>2003</td>\n",
       "      <td>9</td>\n",
       "      <td>e_14</td>\n",
       "      <td>The One with the Blind Dates</td>\n",
       "      <td>24</td>\n",
       "      <td>Phoebe and Joey purposely set Ross and Rachel ...</td>\n",
       "      <td>Gary Halvorson</td>\n",
       "      <td>8.2</td>\n",
       "      <td>2642</td>\n",
       "      <td>9_14</td>\n",
       "      <td>s_9</td>\n",
       "      <td>DI_Gao</td>\n",
       "    </tr>\n",
       "    <tr>\n",
       "      <th>159</th>\n",
       "      <td>2001</td>\n",
       "      <td>7</td>\n",
       "      <td>e_14</td>\n",
       "      <td>The One Where They All Turn Thirty</td>\n",
       "      <td>22</td>\n",
       "      <td>Rachel's 30th birthday prompts the rest of the...</td>\n",
       "      <td>Ben Weiss</td>\n",
       "      <td>8.6</td>\n",
       "      <td>2976</td>\n",
       "      <td>7_14</td>\n",
       "      <td>s_7</td>\n",
       "      <td>DI_Bes</td>\n",
       "    </tr>\n",
       "  </tbody>\n",
       "</table>\n",
       "</div>"
      ],
      "text/plain": [
       "     Year_of_prod  Season Episode Number                       Episode_Title  \\\n",
       "73           1997       4            e_1          The One with the Jellyfish   \n",
       "29           1995       2            e_6    The One with the Baby on the Bus   \n",
       "25           1995       2            e_2        The One with the Breast Milk   \n",
       "207          2003       9           e_14        The One with the Blind Dates   \n",
       "159          2001       7           e_14  The One Where They All Turn Thirty   \n",
       "\n",
       "     Duration                                            Summary  \\\n",
       "73         22  Ross chooses between Rachel and his bald-heade...   \n",
       "29         22  Joey and Chandler are left to babysit Ben when...   \n",
       "25         22  Monica goes shopping with Julie and tries to k...   \n",
       "207        24  Phoebe and Joey purposely set Ross and Rachel ...   \n",
       "159        22  Rachel's 30th birthday prompts the rest of the...   \n",
       "\n",
       "            Director  Stars  Votes Episode ID Season ID Director ID  \n",
       "73    Shelley Jensen    9.1   4099        4_1       s_4      DI_She  \n",
       "29      Gail Mancuso    8.6   3822        2_6       s_2      DI_Gas  \n",
       "25   Michael Lembeck    8.2   3669        2_2       s_2      DI_Mic  \n",
       "207   Gary Halvorson    8.2   2642       9_14       s_9      DI_Gao  \n",
       "159        Ben Weiss    8.6   2976       7_14       s_7      DI_Bes  "
      ]
     },
     "execution_count": 11,
     "metadata": {},
     "output_type": "execute_result"
    }
   ],
   "source": [
    "data.sample(5)"
   ]
  },
  {
   "cell_type": "code",
   "execution_count": 12,
   "metadata": {},
   "outputs": [],
   "source": [
    "def quitar_comillas(fila):\n",
    "    return fila.replace('\"',\"'\")"
   ]
  },
  {
   "cell_type": "code",
   "execution_count": 13,
   "metadata": {},
   "outputs": [],
   "source": [
    "data[\"Summary\"] = data[\"Summary\"].apply(quitar_comillas)"
   ]
  },
  {
   "cell_type": "code",
   "execution_count": 14,
   "metadata": {},
   "outputs": [
    {
     "data": {
      "text/plain": [
       "\"Monica and the gang introduce Rachel to the 'real world' after she leaves her fianc� at the altar.\""
      ]
     },
     "execution_count": 14,
     "metadata": {},
     "output_type": "execute_result"
    }
   ],
   "source": [
    "data.loc[0][\"Summary\"]"
   ]
  },
  {
   "cell_type": "code",
   "execution_count": 15,
   "metadata": {},
   "outputs": [
    {
     "data": {
      "text/html": [
       "<div>\n",
       "<style scoped>\n",
       "    .dataframe tbody tr th:only-of-type {\n",
       "        vertical-align: middle;\n",
       "    }\n",
       "\n",
       "    .dataframe tbody tr th {\n",
       "        vertical-align: top;\n",
       "    }\n",
       "\n",
       "    .dataframe thead th {\n",
       "        text-align: right;\n",
       "    }\n",
       "</style>\n",
       "<table border=\"1\" class=\"dataframe\">\n",
       "  <thead>\n",
       "    <tr style=\"text-align: right;\">\n",
       "      <th></th>\n",
       "      <th>Episode Number</th>\n",
       "    </tr>\n",
       "    <tr>\n",
       "      <th>Season ID</th>\n",
       "      <th></th>\n",
       "    </tr>\n",
       "  </thead>\n",
       "  <tbody>\n",
       "    <tr>\n",
       "      <th>s_9</th>\n",
       "      <td>24</td>\n",
       "    </tr>\n",
       "    <tr>\n",
       "      <th>s_1</th>\n",
       "      <td>24</td>\n",
       "    </tr>\n",
       "    <tr>\n",
       "      <th>s_2</th>\n",
       "      <td>24</td>\n",
       "    </tr>\n",
       "  </tbody>\n",
       "</table>\n",
       "</div>"
      ],
      "text/plain": [
       "           Episode Number\n",
       "Season ID                \n",
       "s_9                    24\n",
       "s_1                    24\n",
       "s_2                    24"
      ]
     },
     "execution_count": 15,
     "metadata": {},
     "output_type": "execute_result"
    }
   ],
   "source": [
    "temporadas = data.loc[:,[\"Season ID\",\"Episode Number\"]].groupby(\"Season ID\").count()\n",
    "temporadas.to_csv(\"data/temporadas.csv\")\n",
    "temporadas.sample(3)"
   ]
  },
  {
   "cell_type": "code",
   "execution_count": 16,
   "metadata": {},
   "outputs": [
    {
     "data": {
      "text/html": [
       "<div>\n",
       "<style scoped>\n",
       "    .dataframe tbody tr th:only-of-type {\n",
       "        vertical-align: middle;\n",
       "    }\n",
       "\n",
       "    .dataframe tbody tr th {\n",
       "        vertical-align: top;\n",
       "    }\n",
       "\n",
       "    .dataframe thead th {\n",
       "        text-align: right;\n",
       "    }\n",
       "</style>\n",
       "<table border=\"1\" class=\"dataframe\">\n",
       "  <thead>\n",
       "    <tr style=\"text-align: right;\">\n",
       "      <th></th>\n",
       "      <th>Episode ID</th>\n",
       "      <th>Season</th>\n",
       "      <th>Season ID</th>\n",
       "      <th>Director ID</th>\n",
       "      <th>Episode Number</th>\n",
       "      <th>Episode_Title</th>\n",
       "      <th>Duration</th>\n",
       "      <th>Summary</th>\n",
       "    </tr>\n",
       "  </thead>\n",
       "  <tbody>\n",
       "    <tr>\n",
       "      <th>170</th>\n",
       "      <td>8_1</td>\n",
       "      <td>8</td>\n",
       "      <td>s_8</td>\n",
       "      <td>DI_Keh</td>\n",
       "      <td>e_1</td>\n",
       "      <td>The One After I Do</td>\n",
       "      <td>22</td>\n",
       "      <td>The gang learns that Rachel is pregnant; Joey ...</td>\n",
       "    </tr>\n",
       "    <tr>\n",
       "      <th>34</th>\n",
       "      <td>2_11</td>\n",
       "      <td>2</td>\n",
       "      <td>s_2</td>\n",
       "      <td>DI_Thm</td>\n",
       "      <td>e_11</td>\n",
       "      <td>The One with the Lesbian Wedding</td>\n",
       "      <td>22</td>\n",
       "      <td>Rachel's mom comes to visit with big news. Mon...</td>\n",
       "    </tr>\n",
       "  </tbody>\n",
       "</table>\n",
       "</div>"
      ],
      "text/plain": [
       "    Episode ID  Season Season ID Director ID Episode Number  \\\n",
       "170        8_1       8       s_8      DI_Keh            e_1   \n",
       "34        2_11       2       s_2      DI_Thm           e_11   \n",
       "\n",
       "                        Episode_Title  Duration  \\\n",
       "170                The One After I Do        22   \n",
       "34   The One with the Lesbian Wedding        22   \n",
       "\n",
       "                                               Summary  \n",
       "170  The gang learns that Rachel is pregnant; Joey ...  \n",
       "34   Rachel's mom comes to visit with big news. Mon...  "
      ]
     },
     "execution_count": 16,
     "metadata": {},
     "output_type": "execute_result"
    }
   ],
   "source": [
    "episodes = data.loc[:,[\"Episode ID\",\"Season\",\"Season ID\",\"Director ID\", \"Episode Number\",\"Episode_Title\",\"Duration\",\"Summary\"]]\n",
    "episodes.to_csv(\"data/episodios.csv\")\n",
    "episodes.sample(2)"
   ]
  },
  {
   "cell_type": "code",
   "execution_count": 17,
   "metadata": {},
   "outputs": [
    {
     "data": {
      "text/html": [
       "<div>\n",
       "<style scoped>\n",
       "    .dataframe tbody tr th:only-of-type {\n",
       "        vertical-align: middle;\n",
       "    }\n",
       "\n",
       "    .dataframe tbody tr th {\n",
       "        vertical-align: top;\n",
       "    }\n",
       "\n",
       "    .dataframe thead th {\n",
       "        text-align: right;\n",
       "    }\n",
       "</style>\n",
       "<table border=\"1\" class=\"dataframe\">\n",
       "  <thead>\n",
       "    <tr style=\"text-align: right;\">\n",
       "      <th></th>\n",
       "      <th>Director ID</th>\n",
       "      <th>Director</th>\n",
       "      <th>Episode Number</th>\n",
       "    </tr>\n",
       "  </thead>\n",
       "  <tbody>\n",
       "    <tr>\n",
       "      <th>0</th>\n",
       "      <td>DI_Jaw</td>\n",
       "      <td>James Burrows</td>\n",
       "      <td>e_1</td>\n",
       "    </tr>\n",
       "    <tr>\n",
       "      <th>1</th>\n",
       "      <td>DI_Jaw</td>\n",
       "      <td>James Burrows</td>\n",
       "      <td>e_2</td>\n",
       "    </tr>\n",
       "    <tr>\n",
       "      <th>2</th>\n",
       "      <td>DI_Jaw</td>\n",
       "      <td>James Burrows</td>\n",
       "      <td>e_3</td>\n",
       "    </tr>\n",
       "    <tr>\n",
       "      <th>3</th>\n",
       "      <td>DI_Jaw</td>\n",
       "      <td>James Burrows</td>\n",
       "      <td>e_4</td>\n",
       "    </tr>\n",
       "    <tr>\n",
       "      <th>4</th>\n",
       "      <td>DI_Paa</td>\n",
       "      <td>Pamela Fryman</td>\n",
       "      <td>e_5</td>\n",
       "    </tr>\n",
       "    <tr>\n",
       "      <th>...</th>\n",
       "      <td>...</td>\n",
       "      <td>...</td>\n",
       "      <td>...</td>\n",
       "    </tr>\n",
       "    <tr>\n",
       "      <th>231</th>\n",
       "      <td>DI_Gao</td>\n",
       "      <td>Gary Halvorson</td>\n",
       "      <td>e_14</td>\n",
       "    </tr>\n",
       "    <tr>\n",
       "      <th>232</th>\n",
       "      <td>DI_Gao</td>\n",
       "      <td>Gary Halvorson</td>\n",
       "      <td>e_15</td>\n",
       "    </tr>\n",
       "    <tr>\n",
       "      <th>233</th>\n",
       "      <td>DI_Gao</td>\n",
       "      <td>Gary Halvorson</td>\n",
       "      <td>e_16</td>\n",
       "    </tr>\n",
       "    <tr>\n",
       "      <th>234</th>\n",
       "      <td>DI_Keh</td>\n",
       "      <td>Kevin Bright</td>\n",
       "      <td>e_17</td>\n",
       "    </tr>\n",
       "    <tr>\n",
       "      <th>235</th>\n",
       "      <td>DI_Keh</td>\n",
       "      <td>Kevin Bright</td>\n",
       "      <td>e_18</td>\n",
       "    </tr>\n",
       "  </tbody>\n",
       "</table>\n",
       "<p>236 rows × 3 columns</p>\n",
       "</div>"
      ],
      "text/plain": [
       "    Director ID        Director Episode Number\n",
       "0        DI_Jaw   James Burrows            e_1\n",
       "1        DI_Jaw   James Burrows            e_2\n",
       "2        DI_Jaw   James Burrows            e_3\n",
       "3        DI_Jaw   James Burrows            e_4\n",
       "4        DI_Paa   Pamela Fryman            e_5\n",
       "..          ...             ...            ...\n",
       "231      DI_Gao  Gary Halvorson           e_14\n",
       "232      DI_Gao  Gary Halvorson           e_15\n",
       "233      DI_Gao  Gary Halvorson           e_16\n",
       "234      DI_Keh    Kevin Bright           e_17\n",
       "235      DI_Keh    Kevin Bright           e_18\n",
       "\n",
       "[236 rows x 3 columns]"
      ]
     },
     "execution_count": 17,
     "metadata": {},
     "output_type": "execute_result"
    }
   ],
   "source": [
    "production = data.loc[:,[\"Director ID\",\"Director\", \"Episode Number\"]]\n",
    "production"
   ]
  },
  {
   "cell_type": "code",
   "execution_count": 18,
   "metadata": {},
   "outputs": [],
   "source": [
    "a = data[\"Director\"].value_counts()"
   ]
  },
  {
   "cell_type": "code",
   "execution_count": 19,
   "metadata": {},
   "outputs": [],
   "source": [
    "name = list(a.keys())\n",
    "epi = list(a.values)"
   ]
  },
  {
   "cell_type": "code",
   "execution_count": 20,
   "metadata": {},
   "outputs": [],
   "source": [
    "director = pd.DataFrame(list(zip(name,epi)), columns = ['Name','Number of episodes'])"
   ]
  },
  {
   "cell_type": "code",
   "execution_count": 21,
   "metadata": {},
   "outputs": [],
   "source": [
    "director[\"Director ID\"] = director.apply(lambda row: f\"DI_{row['Name'][0]}{row['Name'][1]}{row['Name'][-2]}\", axis = 1)\n",
    "director.to_csv(\"data/director.csv\")"
   ]
  },
  {
   "cell_type": "code",
   "execution_count": 22,
   "metadata": {},
   "outputs": [],
   "source": [
    "rank = data.loc[:,[\"Episode ID\",\"Stars\",\"Votes\"]]\n",
    "rank.to_csv(\"data/rank.csv\")"
   ]
  },
  {
   "cell_type": "code",
   "execution_count": null,
   "metadata": {},
   "outputs": [],
   "source": []
  }
 ],
 "metadata": {
  "kernelspec": {
   "display_name": "Python 3",
   "language": "python",
   "name": "python3"
  },
  "language_info": {
   "codemirror_mode": {
    "name": "ipython",
    "version": 3
   },
   "file_extension": ".py",
   "mimetype": "text/x-python",
   "name": "python",
   "nbconvert_exporter": "python",
   "pygments_lexer": "ipython3",
   "version": "3.8.5"
  }
 },
 "nbformat": 4,
 "nbformat_minor": 4
}
