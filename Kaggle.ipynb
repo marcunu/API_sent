{
 "cells": [
  {
   "cell_type": "markdown",
   "metadata": {},
   "source": [
    "<img src=\"https://i.pinimg.com/originals/75/3a/32/753a326847fa99d65d506324c5d95363.gif\">"
   ]
  },
  {
   "cell_type": "markdown",
   "metadata": {},
   "source": [
    "# Collecting Data"
   ]
  },
  {
   "cell_type": "code",
   "execution_count": 1,
   "metadata": {},
   "outputs": [],
   "source": [
    "import tools.functions as fnc\n",
    "import pandas as pd"
   ]
  },
  {
   "cell_type": "code",
   "execution_count": 2,
   "metadata": {},
   "outputs": [],
   "source": [
    "df = fnc.download_kaggle()"
   ]
  },
  {
   "cell_type": "code",
   "execution_count": 3,
   "metadata": {},
   "outputs": [],
   "source": [
    "data = df"
   ]
  },
  {
   "cell_type": "code",
   "execution_count": 4,
   "metadata": {},
   "outputs": [
    {
     "data": {
      "text/html": [
       "<div>\n",
       "<style scoped>\n",
       "    .dataframe tbody tr th:only-of-type {\n",
       "        vertical-align: middle;\n",
       "    }\n",
       "\n",
       "    .dataframe tbody tr th {\n",
       "        vertical-align: top;\n",
       "    }\n",
       "\n",
       "    .dataframe thead th {\n",
       "        text-align: right;\n",
       "    }\n",
       "</style>\n",
       "<table border=\"1\" class=\"dataframe\">\n",
       "  <thead>\n",
       "    <tr style=\"text-align: right;\">\n",
       "      <th></th>\n",
       "      <th>Year_of_prod</th>\n",
       "      <th>Season</th>\n",
       "      <th>Episode Number</th>\n",
       "      <th>Episode_Title</th>\n",
       "      <th>Duration</th>\n",
       "      <th>Summary</th>\n",
       "      <th>Director</th>\n",
       "      <th>Stars</th>\n",
       "      <th>Votes</th>\n",
       "    </tr>\n",
       "  </thead>\n",
       "  <tbody>\n",
       "    <tr>\n",
       "      <th>0</th>\n",
       "      <td>1994</td>\n",
       "      <td>1</td>\n",
       "      <td>1</td>\n",
       "      <td>The One Where Monica Gets a Roommate: The Pilot</td>\n",
       "      <td>22</td>\n",
       "      <td>Monica and the gang introduce Rachel to the \"r...</td>\n",
       "      <td>James Burrows</td>\n",
       "      <td>8.3</td>\n",
       "      <td>7440</td>\n",
       "    </tr>\n",
       "    <tr>\n",
       "      <th>1</th>\n",
       "      <td>1994</td>\n",
       "      <td>1</td>\n",
       "      <td>2</td>\n",
       "      <td>The One with the Sonogram at the End</td>\n",
       "      <td>22</td>\n",
       "      <td>Ross finds out his ex-wife is pregnant. Rachel...</td>\n",
       "      <td>James Burrows</td>\n",
       "      <td>8.1</td>\n",
       "      <td>4888</td>\n",
       "    </tr>\n",
       "  </tbody>\n",
       "</table>\n",
       "</div>"
      ],
      "text/plain": [
       "   Year_of_prod  Season  Episode Number  \\\n",
       "0          1994       1               1   \n",
       "1          1994       1               2   \n",
       "\n",
       "                                     Episode_Title  Duration  \\\n",
       "0  The One Where Monica Gets a Roommate: The Pilot        22   \n",
       "1             The One with the Sonogram at the End        22   \n",
       "\n",
       "                                             Summary       Director  Stars  \\\n",
       "0  Monica and the gang introduce Rachel to the \"r...  James Burrows    8.3   \n",
       "1  Ross finds out his ex-wife is pregnant. Rachel...  James Burrows    8.1   \n",
       "\n",
       "   Votes  \n",
       "0   7440  \n",
       "1   4888  "
      ]
     },
     "execution_count": 4,
     "metadata": {},
     "output_type": "execute_result"
    }
   ],
   "source": [
    "data.head(2)"
   ]
  },
  {
   "cell_type": "code",
   "execution_count": 5,
   "metadata": {},
   "outputs": [],
   "source": [
    "data[\"Episode ID\"] = data.apply(lambda row: f\"{row['Season']}_{row['Episode Number']}\", axis = 1)"
   ]
  },
  {
   "cell_type": "code",
   "execution_count": 6,
   "metadata": {},
   "outputs": [
    {
     "data": {
      "text/html": [
       "<div>\n",
       "<style scoped>\n",
       "    .dataframe tbody tr th:only-of-type {\n",
       "        vertical-align: middle;\n",
       "    }\n",
       "\n",
       "    .dataframe tbody tr th {\n",
       "        vertical-align: top;\n",
       "    }\n",
       "\n",
       "    .dataframe thead th {\n",
       "        text-align: right;\n",
       "    }\n",
       "</style>\n",
       "<table border=\"1\" class=\"dataframe\">\n",
       "  <thead>\n",
       "    <tr style=\"text-align: right;\">\n",
       "      <th></th>\n",
       "      <th>Year_of_prod</th>\n",
       "      <th>Season</th>\n",
       "      <th>Episode Number</th>\n",
       "      <th>Episode_Title</th>\n",
       "      <th>Duration</th>\n",
       "      <th>Summary</th>\n",
       "      <th>Director</th>\n",
       "      <th>Stars</th>\n",
       "      <th>Votes</th>\n",
       "      <th>Episode ID</th>\n",
       "      <th>Season ID</th>\n",
       "    </tr>\n",
       "  </thead>\n",
       "  <tbody>\n",
       "    <tr>\n",
       "      <th>165</th>\n",
       "      <td>2001</td>\n",
       "      <td>7</td>\n",
       "      <td>20</td>\n",
       "      <td>The One with Rachel's Big Kiss</td>\n",
       "      <td>22</td>\n",
       "      <td>Rachel's college friend can't remember a scand...</td>\n",
       "      <td>Gary Halvorson</td>\n",
       "      <td>8.4</td>\n",
       "      <td>2894</td>\n",
       "      <td>7_20</td>\n",
       "      <td>s_7</td>\n",
       "    </tr>\n",
       "    <tr>\n",
       "      <th>41</th>\n",
       "      <td>1996</td>\n",
       "      <td>2</td>\n",
       "      <td>18</td>\n",
       "      <td>The One Where Dr. Ramoray Dies</td>\n",
       "      <td>22</td>\n",
       "      <td>Joey's soap opera character is killed off afte...</td>\n",
       "      <td>Michael Lembeck</td>\n",
       "      <td>8.5</td>\n",
       "      <td>3403</td>\n",
       "      <td>2_18</td>\n",
       "      <td>s_2</td>\n",
       "    </tr>\n",
       "    <tr>\n",
       "      <th>23</th>\n",
       "      <td>1995</td>\n",
       "      <td>1</td>\n",
       "      <td>24</td>\n",
       "      <td>The One Where Rachel Finds Out</td>\n",
       "      <td>22</td>\n",
       "      <td>As Ross leaves for China, Chandler accidentall...</td>\n",
       "      <td>Kevin Bright</td>\n",
       "      <td>8.9</td>\n",
       "      <td>4187</td>\n",
       "      <td>1_24</td>\n",
       "      <td>s_1</td>\n",
       "    </tr>\n",
       "  </tbody>\n",
       "</table>\n",
       "</div>"
      ],
      "text/plain": [
       "     Year_of_prod  Season  Episode Number                   Episode_Title  \\\n",
       "165          2001       7              20  The One with Rachel's Big Kiss   \n",
       "41           1996       2              18  The One Where Dr. Ramoray Dies   \n",
       "23           1995       1              24  The One Where Rachel Finds Out   \n",
       "\n",
       "     Duration                                            Summary  \\\n",
       "165        22  Rachel's college friend can't remember a scand...   \n",
       "41         22  Joey's soap opera character is killed off afte...   \n",
       "23         22  As Ross leaves for China, Chandler accidentall...   \n",
       "\n",
       "            Director  Stars  Votes Episode ID Season ID  \n",
       "165   Gary Halvorson    8.4   2894       7_20       s_7  \n",
       "41   Michael Lembeck    8.5   3403       2_18       s_2  \n",
       "23      Kevin Bright    8.9   4187       1_24       s_1  "
      ]
     },
     "execution_count": 6,
     "metadata": {},
     "output_type": "execute_result"
    }
   ],
   "source": [
    "data[\"Season ID\"] = data.apply(lambda row: f\"s_{row['Season']}\", axis = 1)\n",
    "data.sample(3)"
   ]
  },
  {
   "cell_type": "code",
   "execution_count": 7,
   "metadata": {},
   "outputs": [
    {
     "data": {
      "text/plain": [
       "'Monica and the gang introduce Rachel to the \"real world\" after she leaves her fianc� at the altar.'"
      ]
     },
     "execution_count": 7,
     "metadata": {},
     "output_type": "execute_result"
    }
   ],
   "source": [
    "data.loc[0][\"Summary\"]"
   ]
  },
  {
   "cell_type": "code",
   "execution_count": 8,
   "metadata": {},
   "outputs": [],
   "source": [
    "data = data.replace('\"','')"
   ]
  },
  {
   "cell_type": "code",
   "execution_count": 9,
   "metadata": {},
   "outputs": [],
   "source": [
    "data[\"Episode Number\"] = data.apply(lambda row: f\"e_{row['Episode Number']}\", axis = 1)"
   ]
  },
  {
   "cell_type": "code",
   "execution_count": 10,
   "metadata": {},
   "outputs": [],
   "source": [
    "data[\"Director ID\"] = data.apply(lambda row: f\"DI_{row['Director'][0]}{row['Director'][1]}{row['Director'][-2]}\", axis = 1)"
   ]
  },
  {
   "cell_type": "code",
   "execution_count": 11,
   "metadata": {
    "scrolled": true
   },
   "outputs": [
    {
     "data": {
      "text/html": [
       "<div>\n",
       "<style scoped>\n",
       "    .dataframe tbody tr th:only-of-type {\n",
       "        vertical-align: middle;\n",
       "    }\n",
       "\n",
       "    .dataframe tbody tr th {\n",
       "        vertical-align: top;\n",
       "    }\n",
       "\n",
       "    .dataframe thead th {\n",
       "        text-align: right;\n",
       "    }\n",
       "</style>\n",
       "<table border=\"1\" class=\"dataframe\">\n",
       "  <thead>\n",
       "    <tr style=\"text-align: right;\">\n",
       "      <th></th>\n",
       "      <th>Year_of_prod</th>\n",
       "      <th>Season</th>\n",
       "      <th>Episode Number</th>\n",
       "      <th>Episode_Title</th>\n",
       "      <th>Duration</th>\n",
       "      <th>Summary</th>\n",
       "      <th>Director</th>\n",
       "      <th>Stars</th>\n",
       "      <th>Votes</th>\n",
       "      <th>Episode ID</th>\n",
       "      <th>Season ID</th>\n",
       "      <th>Director ID</th>\n",
       "    </tr>\n",
       "  </thead>\n",
       "  <tbody>\n",
       "    <tr>\n",
       "      <th>211</th>\n",
       "      <td>2003</td>\n",
       "      <td>9</td>\n",
       "      <td>e_18</td>\n",
       "      <td>The One with the Lottery</td>\n",
       "      <td>23</td>\n",
       "      <td>Hoping to win a huge jackpot, the friends pool...</td>\n",
       "      <td>Gary Halvorson</td>\n",
       "      <td>8.6</td>\n",
       "      <td>2792</td>\n",
       "      <td>9_18</td>\n",
       "      <td>s_9</td>\n",
       "      <td>DI_Gao</td>\n",
       "    </tr>\n",
       "    <tr>\n",
       "      <th>43</th>\n",
       "      <td>1996</td>\n",
       "      <td>2</td>\n",
       "      <td>e_20</td>\n",
       "      <td>The One Where Old Yeller Dies</td>\n",
       "      <td>22</td>\n",
       "      <td>Phoebe's world view is shattered when she lear...</td>\n",
       "      <td>Michael Lembeck</td>\n",
       "      <td>8.2</td>\n",
       "      <td>3295</td>\n",
       "      <td>2_20</td>\n",
       "      <td>s_2</td>\n",
       "      <td>DI_Mic</td>\n",
       "    </tr>\n",
       "    <tr>\n",
       "      <th>182</th>\n",
       "      <td>2002</td>\n",
       "      <td>8</td>\n",
       "      <td>e_13</td>\n",
       "      <td>The One Where Chandler Takes a Bath</td>\n",
       "      <td>22</td>\n",
       "      <td>Monica turns Chandler on to the concept of tak...</td>\n",
       "      <td>Ben Weiss</td>\n",
       "      <td>8.6</td>\n",
       "      <td>2800</td>\n",
       "      <td>8_13</td>\n",
       "      <td>s_8</td>\n",
       "      <td>DI_Bes</td>\n",
       "    </tr>\n",
       "    <tr>\n",
       "      <th>213</th>\n",
       "      <td>2003</td>\n",
       "      <td>9</td>\n",
       "      <td>e_20</td>\n",
       "      <td>The One with the Soap Opera Party</td>\n",
       "      <td>22</td>\n",
       "      <td>Joey throws a cast party on the roof of his bu...</td>\n",
       "      <td>Sheldon Epps</td>\n",
       "      <td>8.2</td>\n",
       "      <td>2615</td>\n",
       "      <td>9_20</td>\n",
       "      <td>s_9</td>\n",
       "      <td>DI_Shp</td>\n",
       "    </tr>\n",
       "    <tr>\n",
       "      <th>144</th>\n",
       "      <td>2000</td>\n",
       "      <td>6</td>\n",
       "      <td>e_24</td>\n",
       "      <td>The One with the Proposal</td>\n",
       "      <td>30</td>\n",
       "      <td>Chandler's plan to propose to Monica at dinner...</td>\n",
       "      <td>Kevin Bright</td>\n",
       "      <td>8.8</td>\n",
       "      <td>3065</td>\n",
       "      <td>6_24</td>\n",
       "      <td>s_6</td>\n",
       "      <td>DI_Keh</td>\n",
       "    </tr>\n",
       "  </tbody>\n",
       "</table>\n",
       "</div>"
      ],
      "text/plain": [
       "     Year_of_prod  Season Episode Number                        Episode_Title  \\\n",
       "211          2003       9           e_18             The One with the Lottery   \n",
       "43           1996       2           e_20        The One Where Old Yeller Dies   \n",
       "182          2002       8           e_13  The One Where Chandler Takes a Bath   \n",
       "213          2003       9           e_20    The One with the Soap Opera Party   \n",
       "144          2000       6           e_24            The One with the Proposal   \n",
       "\n",
       "     Duration                                            Summary  \\\n",
       "211        23  Hoping to win a huge jackpot, the friends pool...   \n",
       "43         22  Phoebe's world view is shattered when she lear...   \n",
       "182        22  Monica turns Chandler on to the concept of tak...   \n",
       "213        22  Joey throws a cast party on the roof of his bu...   \n",
       "144        30  Chandler's plan to propose to Monica at dinner...   \n",
       "\n",
       "            Director  Stars  Votes Episode ID Season ID Director ID  \n",
       "211   Gary Halvorson    8.6   2792       9_18       s_9      DI_Gao  \n",
       "43   Michael Lembeck    8.2   3295       2_20       s_2      DI_Mic  \n",
       "182        Ben Weiss    8.6   2800       8_13       s_8      DI_Bes  \n",
       "213     Sheldon Epps    8.2   2615       9_20       s_9      DI_Shp  \n",
       "144     Kevin Bright    8.8   3065       6_24       s_6      DI_Keh  "
      ]
     },
     "execution_count": 11,
     "metadata": {},
     "output_type": "execute_result"
    }
   ],
   "source": [
    "data.sample(5)"
   ]
  },
  {
   "cell_type": "code",
   "execution_count": 12,
   "metadata": {},
   "outputs": [],
   "source": [
    "def quitar_comillas(fila):\n",
    "    return fila.replace('\"',\"'\")"
   ]
  },
  {
   "cell_type": "code",
   "execution_count": 13,
   "metadata": {},
   "outputs": [],
   "source": [
    "data[\"Summary\"] = data[\"Summary\"].apply(quitar_comillas)"
   ]
  },
  {
   "cell_type": "code",
   "execution_count": 14,
   "metadata": {},
   "outputs": [
    {
     "data": {
      "text/plain": [
       "\"Monica and the gang introduce Rachel to the 'real world' after she leaves her fianc� at the altar.\""
      ]
     },
     "execution_count": 14,
     "metadata": {},
     "output_type": "execute_result"
    }
   ],
   "source": [
    "data.loc[0][\"Summary\"]"
   ]
  },
  {
   "cell_type": "code",
   "execution_count": 15,
   "metadata": {},
   "outputs": [
    {
     "data": {
      "text/html": [
       "<div>\n",
       "<style scoped>\n",
       "    .dataframe tbody tr th:only-of-type {\n",
       "        vertical-align: middle;\n",
       "    }\n",
       "\n",
       "    .dataframe tbody tr th {\n",
       "        vertical-align: top;\n",
       "    }\n",
       "\n",
       "    .dataframe thead th {\n",
       "        text-align: right;\n",
       "    }\n",
       "</style>\n",
       "<table border=\"1\" class=\"dataframe\">\n",
       "  <thead>\n",
       "    <tr style=\"text-align: right;\">\n",
       "      <th></th>\n",
       "      <th>Episode Number</th>\n",
       "    </tr>\n",
       "    <tr>\n",
       "      <th>Season ID</th>\n",
       "      <th></th>\n",
       "    </tr>\n",
       "  </thead>\n",
       "  <tbody>\n",
       "    <tr>\n",
       "      <th>s_6</th>\n",
       "      <td>25</td>\n",
       "    </tr>\n",
       "    <tr>\n",
       "      <th>s_4</th>\n",
       "      <td>24</td>\n",
       "    </tr>\n",
       "    <tr>\n",
       "      <th>s_3</th>\n",
       "      <td>25</td>\n",
       "    </tr>\n",
       "  </tbody>\n",
       "</table>\n",
       "</div>"
      ],
      "text/plain": [
       "           Episode Number\n",
       "Season ID                \n",
       "s_6                    25\n",
       "s_4                    24\n",
       "s_3                    25"
      ]
     },
     "execution_count": 15,
     "metadata": {},
     "output_type": "execute_result"
    }
   ],
   "source": [
    "temporadas = data.loc[:,[\"Season ID\",\"Episode Number\"]].groupby(\"Season ID\").count()\n",
    "temporadas.to_csv(\"data/temporadas.csv\")\n",
    "temporadas.sample(3)"
   ]
  },
  {
   "cell_type": "code",
   "execution_count": 16,
   "metadata": {},
   "outputs": [
    {
     "data": {
      "text/html": [
       "<div>\n",
       "<style scoped>\n",
       "    .dataframe tbody tr th:only-of-type {\n",
       "        vertical-align: middle;\n",
       "    }\n",
       "\n",
       "    .dataframe tbody tr th {\n",
       "        vertical-align: top;\n",
       "    }\n",
       "\n",
       "    .dataframe thead th {\n",
       "        text-align: right;\n",
       "    }\n",
       "</style>\n",
       "<table border=\"1\" class=\"dataframe\">\n",
       "  <thead>\n",
       "    <tr style=\"text-align: right;\">\n",
       "      <th></th>\n",
       "      <th>Episode ID</th>\n",
       "      <th>Season ID</th>\n",
       "      <th>Director ID</th>\n",
       "      <th>Episode Number</th>\n",
       "      <th>Episode_Title</th>\n",
       "      <th>Duration</th>\n",
       "      <th>Summary</th>\n",
       "    </tr>\n",
       "  </thead>\n",
       "  <tbody>\n",
       "    <tr>\n",
       "      <th>60</th>\n",
       "      <td>3_13</td>\n",
       "      <td>s_3</td>\n",
       "      <td>DI_Roo</td>\n",
       "      <td>e_13</td>\n",
       "      <td>The One Where Monica and Richard Are Just Friends</td>\n",
       "      <td>22</td>\n",
       "      <td>Monica's willpower is tested when she bumps in...</td>\n",
       "    </tr>\n",
       "    <tr>\n",
       "      <th>127</th>\n",
       "      <td>6_7</td>\n",
       "      <td>s_6</td>\n",
       "      <td>DI_Gao</td>\n",
       "      <td>e_7</td>\n",
       "      <td>The One Where Phoebe Runs</td>\n",
       "      <td>22</td>\n",
       "      <td>Rachel is embarrassed by Phoebe's odd running ...</td>\n",
       "    </tr>\n",
       "  </tbody>\n",
       "</table>\n",
       "</div>"
      ],
      "text/plain": [
       "    Episode ID Season ID Director ID Episode Number  \\\n",
       "60        3_13       s_3      DI_Roo           e_13   \n",
       "127        6_7       s_6      DI_Gao            e_7   \n",
       "\n",
       "                                         Episode_Title  Duration  \\\n",
       "60   The One Where Monica and Richard Are Just Friends        22   \n",
       "127                          The One Where Phoebe Runs        22   \n",
       "\n",
       "                                               Summary  \n",
       "60   Monica's willpower is tested when she bumps in...  \n",
       "127  Rachel is embarrassed by Phoebe's odd running ...  "
      ]
     },
     "execution_count": 16,
     "metadata": {},
     "output_type": "execute_result"
    }
   ],
   "source": [
    "episodes = data.loc[:,[\"Episode ID\",\"Season ID\",\"Director ID\", \"Episode Number\",\"Episode_Title\",\"Duration\",\"Summary\"]]\n",
    "episodes.to_csv(\"data/episodios.csv\")\n",
    "episodes.sample(2)"
   ]
  },
  {
   "cell_type": "code",
   "execution_count": 17,
   "metadata": {},
   "outputs": [
    {
     "data": {
      "text/html": [
       "<div>\n",
       "<style scoped>\n",
       "    .dataframe tbody tr th:only-of-type {\n",
       "        vertical-align: middle;\n",
       "    }\n",
       "\n",
       "    .dataframe tbody tr th {\n",
       "        vertical-align: top;\n",
       "    }\n",
       "\n",
       "    .dataframe thead th {\n",
       "        text-align: right;\n",
       "    }\n",
       "</style>\n",
       "<table border=\"1\" class=\"dataframe\">\n",
       "  <thead>\n",
       "    <tr style=\"text-align: right;\">\n",
       "      <th></th>\n",
       "      <th>Director ID</th>\n",
       "      <th>Director</th>\n",
       "      <th>Episode Number</th>\n",
       "    </tr>\n",
       "  </thead>\n",
       "  <tbody>\n",
       "    <tr>\n",
       "      <th>0</th>\n",
       "      <td>DI_Jaw</td>\n",
       "      <td>James Burrows</td>\n",
       "      <td>e_1</td>\n",
       "    </tr>\n",
       "    <tr>\n",
       "      <th>1</th>\n",
       "      <td>DI_Jaw</td>\n",
       "      <td>James Burrows</td>\n",
       "      <td>e_2</td>\n",
       "    </tr>\n",
       "    <tr>\n",
       "      <th>2</th>\n",
       "      <td>DI_Jaw</td>\n",
       "      <td>James Burrows</td>\n",
       "      <td>e_3</td>\n",
       "    </tr>\n",
       "    <tr>\n",
       "      <th>3</th>\n",
       "      <td>DI_Jaw</td>\n",
       "      <td>James Burrows</td>\n",
       "      <td>e_4</td>\n",
       "    </tr>\n",
       "    <tr>\n",
       "      <th>4</th>\n",
       "      <td>DI_Paa</td>\n",
       "      <td>Pamela Fryman</td>\n",
       "      <td>e_5</td>\n",
       "    </tr>\n",
       "    <tr>\n",
       "      <th>...</th>\n",
       "      <td>...</td>\n",
       "      <td>...</td>\n",
       "      <td>...</td>\n",
       "    </tr>\n",
       "    <tr>\n",
       "      <th>231</th>\n",
       "      <td>DI_Gao</td>\n",
       "      <td>Gary Halvorson</td>\n",
       "      <td>e_14</td>\n",
       "    </tr>\n",
       "    <tr>\n",
       "      <th>232</th>\n",
       "      <td>DI_Gao</td>\n",
       "      <td>Gary Halvorson</td>\n",
       "      <td>e_15</td>\n",
       "    </tr>\n",
       "    <tr>\n",
       "      <th>233</th>\n",
       "      <td>DI_Gao</td>\n",
       "      <td>Gary Halvorson</td>\n",
       "      <td>e_16</td>\n",
       "    </tr>\n",
       "    <tr>\n",
       "      <th>234</th>\n",
       "      <td>DI_Keh</td>\n",
       "      <td>Kevin Bright</td>\n",
       "      <td>e_17</td>\n",
       "    </tr>\n",
       "    <tr>\n",
       "      <th>235</th>\n",
       "      <td>DI_Keh</td>\n",
       "      <td>Kevin Bright</td>\n",
       "      <td>e_18</td>\n",
       "    </tr>\n",
       "  </tbody>\n",
       "</table>\n",
       "<p>236 rows × 3 columns</p>\n",
       "</div>"
      ],
      "text/plain": [
       "    Director ID        Director Episode Number\n",
       "0        DI_Jaw   James Burrows            e_1\n",
       "1        DI_Jaw   James Burrows            e_2\n",
       "2        DI_Jaw   James Burrows            e_3\n",
       "3        DI_Jaw   James Burrows            e_4\n",
       "4        DI_Paa   Pamela Fryman            e_5\n",
       "..          ...             ...            ...\n",
       "231      DI_Gao  Gary Halvorson           e_14\n",
       "232      DI_Gao  Gary Halvorson           e_15\n",
       "233      DI_Gao  Gary Halvorson           e_16\n",
       "234      DI_Keh    Kevin Bright           e_17\n",
       "235      DI_Keh    Kevin Bright           e_18\n",
       "\n",
       "[236 rows x 3 columns]"
      ]
     },
     "execution_count": 17,
     "metadata": {},
     "output_type": "execute_result"
    }
   ],
   "source": [
    "production = data.loc[:,[\"Director ID\",\"Director\", \"Episode Number\"]]\n",
    "production"
   ]
  },
  {
   "cell_type": "code",
   "execution_count": 18,
   "metadata": {},
   "outputs": [],
   "source": [
    "a = data[\"Director\"].value_counts()"
   ]
  },
  {
   "cell_type": "code",
   "execution_count": 19,
   "metadata": {},
   "outputs": [],
   "source": [
    "name = list(a.keys())\n",
    "epi = list(a.values)"
   ]
  },
  {
   "cell_type": "code",
   "execution_count": 20,
   "metadata": {},
   "outputs": [],
   "source": [
    "director = pd.DataFrame(list(zip(name,epi)), columns = ['Name','Number of episodes'])"
   ]
  },
  {
   "cell_type": "code",
   "execution_count": 21,
   "metadata": {},
   "outputs": [],
   "source": [
    "director[\"Director ID\"] = director.apply(lambda row: f\"DI_{row['Name'][0]}{row['Name'][1]}{row['Name'][-2]}\", axis = 1)\n",
    "director.to_csv(\"data/director.csv\")"
   ]
  },
  {
   "cell_type": "code",
   "execution_count": 22,
   "metadata": {},
   "outputs": [],
   "source": [
    "rank = data.loc[:,[\"Episode ID\",\"Stars\",\"Votes\"]]\n",
    "rank.to_csv(\"data/rank.csv\")"
   ]
  },
  {
   "cell_type": "code",
   "execution_count": null,
   "metadata": {},
   "outputs": [],
   "source": []
  }
 ],
 "metadata": {
  "kernelspec": {
   "display_name": "Python 3",
   "language": "python",
   "name": "python3"
  },
  "language_info": {
   "codemirror_mode": {
    "name": "ipython",
    "version": 3
   },
   "file_extension": ".py",
   "mimetype": "text/x-python",
   "name": "python",
   "nbconvert_exporter": "python",
   "pygments_lexer": "ipython3",
   "version": "3.8.5"
  }
 },
 "nbformat": 4,
 "nbformat_minor": 4
}
