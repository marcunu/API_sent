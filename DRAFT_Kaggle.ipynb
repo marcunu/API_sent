{
 "cells": [
  {
   "cell_type": "markdown",
   "metadata": {},
   "source": [
    "<img src=\"https://i.pinimg.com/originals/75/3a/32/753a326847fa99d65d506324c5d95363.gif\">"
   ]
  },
  {
   "cell_type": "markdown",
   "metadata": {},
   "source": [
    "# Collecting Data (Draft notebook)"
   ]
  },
  {
   "cell_type": "code",
   "execution_count": 25,
   "metadata": {},
   "outputs": [],
   "source": [
    "import tools.functions as fun\n",
    "import pandas as pd"
   ]
  },
  {
   "cell_type": "code",
   "execution_count": 26,
   "metadata": {},
   "outputs": [],
   "source": [
    "#df = fun.download_kaggle()"
   ]
  },
  {
   "cell_type": "code",
   "execution_count": 27,
   "metadata": {},
   "outputs": [],
   "source": [
    "data = pd.read_csv(\"data/friends_sia.csv\")"
   ]
  },
  {
   "cell_type": "code",
   "execution_count": 28,
   "metadata": {},
   "outputs": [
    {
     "data": {
      "text/html": [
       "<div>\n",
       "<style scoped>\n",
       "    .dataframe tbody tr th:only-of-type {\n",
       "        vertical-align: middle;\n",
       "    }\n",
       "\n",
       "    .dataframe tbody tr th {\n",
       "        vertical-align: top;\n",
       "    }\n",
       "\n",
       "    .dataframe thead th {\n",
       "        text-align: right;\n",
       "    }\n",
       "</style>\n",
       "<table border=\"1\" class=\"dataframe\">\n",
       "  <thead>\n",
       "    <tr style=\"text-align: right;\">\n",
       "      <th></th>\n",
       "      <th>Unnamed: 0</th>\n",
       "      <th>Year_of_prod</th>\n",
       "      <th>Season</th>\n",
       "      <th>Episode Number</th>\n",
       "      <th>Episode_Title</th>\n",
       "      <th>Duration</th>\n",
       "      <th>Summary</th>\n",
       "      <th>Director</th>\n",
       "      <th>Stars</th>\n",
       "      <th>Votes</th>\n",
       "      <th>token</th>\n",
       "      <th>SIA</th>\n",
       "    </tr>\n",
       "  </thead>\n",
       "  <tbody>\n",
       "    <tr>\n",
       "      <th>234</th>\n",
       "      <td>234</td>\n",
       "      <td>2004</td>\n",
       "      <td>10</td>\n",
       "      <td>17</td>\n",
       "      <td>The Last One: Part 1</td>\n",
       "      <td>30</td>\n",
       "      <td>Erica gives birth to the baby that Monica and ...</td>\n",
       "      <td>Kevin Bright</td>\n",
       "      <td>9.5</td>\n",
       "      <td>6221</td>\n",
       "      <td>Erica gives birth baby Monica Chandler adoptin...</td>\n",
       "      <td>0.2732</td>\n",
       "    </tr>\n",
       "    <tr>\n",
       "      <th>235</th>\n",
       "      <td>235</td>\n",
       "      <td>2004</td>\n",
       "      <td>10</td>\n",
       "      <td>18</td>\n",
       "      <td>The Last One: Part 2</td>\n",
       "      <td>30</td>\n",
       "      <td>Phoebe races Ross to the airport in a bid to s...</td>\n",
       "      <td>Kevin Bright</td>\n",
       "      <td>9.7</td>\n",
       "      <td>10381</td>\n",
       "      <td>Phoebe races Ross airport bid stop Rachel leav...</td>\n",
       "      <td>-0.2960</td>\n",
       "    </tr>\n",
       "  </tbody>\n",
       "</table>\n",
       "</div>"
      ],
      "text/plain": [
       "     Unnamed: 0  Year_of_prod  Season  Episode Number         Episode_Title  \\\n",
       "234         234          2004      10              17  The Last One: Part 1   \n",
       "235         235          2004      10              18  The Last One: Part 2   \n",
       "\n",
       "     Duration                                            Summary  \\\n",
       "234        30  Erica gives birth to the baby that Monica and ...   \n",
       "235        30  Phoebe races Ross to the airport in a bid to s...   \n",
       "\n",
       "         Director  Stars  Votes  \\\n",
       "234  Kevin Bright    9.5   6221   \n",
       "235  Kevin Bright    9.7  10381   \n",
       "\n",
       "                                                 token     SIA  \n",
       "234  Erica gives birth baby Monica Chandler adoptin...  0.2732  \n",
       "235  Phoebe races Ross airport bid stop Rachel leav... -0.2960  "
      ]
     },
     "execution_count": 28,
     "metadata": {},
     "output_type": "execute_result"
    }
   ],
   "source": [
    "data.tail(2)"
   ]
  },
  {
   "cell_type": "code",
   "execution_count": 29,
   "metadata": {},
   "outputs": [],
   "source": [
    "data[\"Episode ID\"] = data.apply(lambda row: f\"{row['Season']}_{row['Episode Number']}\", axis = 1)"
   ]
  },
  {
   "cell_type": "code",
   "execution_count": 30,
   "metadata": {},
   "outputs": [
    {
     "data": {
      "text/html": [
       "<div>\n",
       "<style scoped>\n",
       "    .dataframe tbody tr th:only-of-type {\n",
       "        vertical-align: middle;\n",
       "    }\n",
       "\n",
       "    .dataframe tbody tr th {\n",
       "        vertical-align: top;\n",
       "    }\n",
       "\n",
       "    .dataframe thead th {\n",
       "        text-align: right;\n",
       "    }\n",
       "</style>\n",
       "<table border=\"1\" class=\"dataframe\">\n",
       "  <thead>\n",
       "    <tr style=\"text-align: right;\">\n",
       "      <th></th>\n",
       "      <th>Unnamed: 0</th>\n",
       "      <th>Year_of_prod</th>\n",
       "      <th>Season</th>\n",
       "      <th>Episode Number</th>\n",
       "      <th>Episode_Title</th>\n",
       "      <th>Duration</th>\n",
       "      <th>Summary</th>\n",
       "      <th>Director</th>\n",
       "      <th>Stars</th>\n",
       "      <th>Votes</th>\n",
       "      <th>token</th>\n",
       "      <th>SIA</th>\n",
       "      <th>Episode ID</th>\n",
       "      <th>Season ID</th>\n",
       "    </tr>\n",
       "  </thead>\n",
       "  <tbody>\n",
       "    <tr>\n",
       "      <th>218</th>\n",
       "      <td>218</td>\n",
       "      <td>2003</td>\n",
       "      <td>10</td>\n",
       "      <td>1</td>\n",
       "      <td>The One After Joey and Rachel Kiss</td>\n",
       "      <td>22</td>\n",
       "      <td>Joey and Ross both attempt to come clean to ea...</td>\n",
       "      <td>Kevin Bright</td>\n",
       "      <td>8.5</td>\n",
       "      <td>3113</td>\n",
       "      <td>Joey Ross attempt come clean dating Rachel Cha...</td>\n",
       "      <td>0.4019</td>\n",
       "      <td>10_1</td>\n",
       "      <td>s_10</td>\n",
       "    </tr>\n",
       "    <tr>\n",
       "      <th>94</th>\n",
       "      <td>94</td>\n",
       "      <td>1998</td>\n",
       "      <td>4</td>\n",
       "      <td>22</td>\n",
       "      <td>The One with the Worst Best Man Ever</td>\n",
       "      <td>22</td>\n",
       "      <td>at first Ross chooses Joey to be his best man ...</td>\n",
       "      <td>Peter Bonerz</td>\n",
       "      <td>8.5</td>\n",
       "      <td>3052</td>\n",
       "      <td>first Ross chooses Joey best man mishap bachel...</td>\n",
       "      <td>0.8750</td>\n",
       "      <td>4_22</td>\n",
       "      <td>s_4</td>\n",
       "    </tr>\n",
       "    <tr>\n",
       "      <th>174</th>\n",
       "      <td>174</td>\n",
       "      <td>2001</td>\n",
       "      <td>8</td>\n",
       "      <td>5</td>\n",
       "      <td>The One with Rachel's Date</td>\n",
       "      <td>22</td>\n",
       "      <td>Phoebe dates Monica's sous-chef Tim and Monica...</td>\n",
       "      <td>Gary Halvorson</td>\n",
       "      <td>8.1</td>\n",
       "      <td>2703</td>\n",
       "      <td>Phoebe dates Monica sous chef Tim Monica fire ...</td>\n",
       "      <td>-0.7506</td>\n",
       "      <td>8_5</td>\n",
       "      <td>s_8</td>\n",
       "    </tr>\n",
       "  </tbody>\n",
       "</table>\n",
       "</div>"
      ],
      "text/plain": [
       "     Unnamed: 0  Year_of_prod  Season  Episode Number  \\\n",
       "218         218          2003      10               1   \n",
       "94           94          1998       4              22   \n",
       "174         174          2001       8               5   \n",
       "\n",
       "                            Episode_Title  Duration  \\\n",
       "218    The One After Joey and Rachel Kiss        22   \n",
       "94   The One with the Worst Best Man Ever        22   \n",
       "174            The One with Rachel's Date        22   \n",
       "\n",
       "                                               Summary        Director  Stars  \\\n",
       "218  Joey and Ross both attempt to come clean to ea...    Kevin Bright    8.5   \n",
       "94   at first Ross chooses Joey to be his best man ...    Peter Bonerz    8.5   \n",
       "174  Phoebe dates Monica's sous-chef Tim and Monica...  Gary Halvorson    8.1   \n",
       "\n",
       "     Votes                                              token     SIA  \\\n",
       "218   3113  Joey Ross attempt come clean dating Rachel Cha...  0.4019   \n",
       "94    3052  first Ross chooses Joey best man mishap bachel...  0.8750   \n",
       "174   2703  Phoebe dates Monica sous chef Tim Monica fire ... -0.7506   \n",
       "\n",
       "    Episode ID Season ID  \n",
       "218       10_1      s_10  \n",
       "94        4_22       s_4  \n",
       "174        8_5       s_8  "
      ]
     },
     "execution_count": 30,
     "metadata": {},
     "output_type": "execute_result"
    }
   ],
   "source": [
    "data[\"Season ID\"] = data.apply(lambda row: f\"s_{row['Season']}\", axis = 1)\n",
    "data.sample(3)"
   ]
  },
  {
   "cell_type": "code",
   "execution_count": 31,
   "metadata": {},
   "outputs": [
    {
     "data": {
      "text/plain": [
       "'Monica and the gang introduce Rachel to the \"real world\" after she leaves her fianc� at the altar.'"
      ]
     },
     "execution_count": 31,
     "metadata": {},
     "output_type": "execute_result"
    }
   ],
   "source": [
    "data.loc[0][\"Summary\"]"
   ]
  },
  {
   "cell_type": "code",
   "execution_count": 16,
   "metadata": {},
   "outputs": [],
   "source": [
    "data[\"Summary\"] = data[\"Summary\"].apply(fun.quitar_comillas)"
   ]
  },
  {
   "cell_type": "code",
   "execution_count": 17,
   "metadata": {},
   "outputs": [
    {
     "data": {
      "text/plain": [
       "\"Monica and the gang introduce Rachel to the 'real world' after she leaves her fianc� at the altar.\""
      ]
     },
     "execution_count": 17,
     "metadata": {},
     "output_type": "execute_result"
    }
   ],
   "source": [
    "data.loc[0][\"Summary\"]"
   ]
  },
  {
   "cell_type": "code",
   "execution_count": 18,
   "metadata": {},
   "outputs": [],
   "source": [
    "#data[\"Episode Number\"] = data.apply(lambda row: f\"e_{row['Episode Number']}\", axis = 1)"
   ]
  },
  {
   "cell_type": "code",
   "execution_count": 19,
   "metadata": {},
   "outputs": [],
   "source": [
    "data[\"Director ID\"] = data.apply(lambda row: f\"DI_{row['Director'][0]}{row['Director'][1]}{row['Director'][-2]}\", axis = 1)"
   ]
  },
  {
   "cell_type": "code",
   "execution_count": 32,
   "metadata": {
    "scrolled": true
   },
   "outputs": [
    {
     "data": {
      "text/html": [
       "<div>\n",
       "<style scoped>\n",
       "    .dataframe tbody tr th:only-of-type {\n",
       "        vertical-align: middle;\n",
       "    }\n",
       "\n",
       "    .dataframe tbody tr th {\n",
       "        vertical-align: top;\n",
       "    }\n",
       "\n",
       "    .dataframe thead th {\n",
       "        text-align: right;\n",
       "    }\n",
       "</style>\n",
       "<table border=\"1\" class=\"dataframe\">\n",
       "  <thead>\n",
       "    <tr style=\"text-align: right;\">\n",
       "      <th></th>\n",
       "      <th>Unnamed: 0</th>\n",
       "      <th>Year_of_prod</th>\n",
       "      <th>Season</th>\n",
       "      <th>Episode Number</th>\n",
       "      <th>Episode_Title</th>\n",
       "      <th>Duration</th>\n",
       "      <th>Summary</th>\n",
       "      <th>Director</th>\n",
       "      <th>Stars</th>\n",
       "      <th>Votes</th>\n",
       "      <th>token</th>\n",
       "      <th>SIA</th>\n",
       "      <th>Episode ID</th>\n",
       "      <th>Season ID</th>\n",
       "    </tr>\n",
       "  </thead>\n",
       "  <tbody>\n",
       "    <tr>\n",
       "      <th>132</th>\n",
       "      <td>132</td>\n",
       "      <td>2000</td>\n",
       "      <td>6</td>\n",
       "      <td>12</td>\n",
       "      <td>The One with the Joke</td>\n",
       "      <td>22</td>\n",
       "      <td>Chandler and Ross argue over a joke. Meanwhile...</td>\n",
       "      <td>Gary Halvorson</td>\n",
       "      <td>8.1</td>\n",
       "      <td>2829</td>\n",
       "      <td>Chandler Ross argue joke Meanwhile Joey reluct...</td>\n",
       "      <td>-0.4939</td>\n",
       "      <td>6_12</td>\n",
       "      <td>s_6</td>\n",
       "    </tr>\n",
       "    <tr>\n",
       "      <th>50</th>\n",
       "      <td>50</td>\n",
       "      <td>1996</td>\n",
       "      <td>3</td>\n",
       "      <td>3</td>\n",
       "      <td>The One with the Jam</td>\n",
       "      <td>22</td>\n",
       "      <td>Monica tries to get over Richard by using her ...</td>\n",
       "      <td>Kevin Bright</td>\n",
       "      <td>8.1</td>\n",
       "      <td>3324</td>\n",
       "      <td>Monica tries get Richard using free time make ...</td>\n",
       "      <td>0.2023</td>\n",
       "      <td>3_3</td>\n",
       "      <td>s_3</td>\n",
       "    </tr>\n",
       "  </tbody>\n",
       "</table>\n",
       "</div>"
      ],
      "text/plain": [
       "     Unnamed: 0  Year_of_prod  Season  Episode Number          Episode_Title  \\\n",
       "132         132          2000       6              12  The One with the Joke   \n",
       "50           50          1996       3               3   The One with the Jam   \n",
       "\n",
       "     Duration                                            Summary  \\\n",
       "132        22  Chandler and Ross argue over a joke. Meanwhile...   \n",
       "50         22  Monica tries to get over Richard by using her ...   \n",
       "\n",
       "           Director  Stars  Votes  \\\n",
       "132  Gary Halvorson    8.1   2829   \n",
       "50     Kevin Bright    8.1   3324   \n",
       "\n",
       "                                                 token     SIA Episode ID  \\\n",
       "132  Chandler Ross argue joke Meanwhile Joey reluct... -0.4939       6_12   \n",
       "50   Monica tries get Richard using free time make ...  0.2023        3_3   \n",
       "\n",
       "    Season ID  \n",
       "132       s_6  \n",
       "50        s_3  "
      ]
     },
     "execution_count": 32,
     "metadata": {},
     "output_type": "execute_result"
    }
   ],
   "source": [
    "data.sample(2)"
   ]
  },
  {
   "cell_type": "code",
   "execution_count": 36,
   "metadata": {},
   "outputs": [
    {
     "data": {
      "text/html": [
       "<div>\n",
       "<style scoped>\n",
       "    .dataframe tbody tr th:only-of-type {\n",
       "        vertical-align: middle;\n",
       "    }\n",
       "\n",
       "    .dataframe tbody tr th {\n",
       "        vertical-align: top;\n",
       "    }\n",
       "\n",
       "    .dataframe thead th {\n",
       "        text-align: right;\n",
       "    }\n",
       "</style>\n",
       "<table border=\"1\" class=\"dataframe\">\n",
       "  <thead>\n",
       "    <tr style=\"text-align: right;\">\n",
       "      <th></th>\n",
       "      <th>Season</th>\n",
       "      <th>Year_of_prod</th>\n",
       "      <th>Episode Number</th>\n",
       "    </tr>\n",
       "    <tr>\n",
       "      <th>Season ID</th>\n",
       "      <th></th>\n",
       "      <th></th>\n",
       "      <th></th>\n",
       "    </tr>\n",
       "  </thead>\n",
       "  <tbody>\n",
       "    <tr>\n",
       "      <th>s_6</th>\n",
       "      <td>6</td>\n",
       "      <td>2000</td>\n",
       "      <td>25</td>\n",
       "    </tr>\n",
       "    <tr>\n",
       "      <th>s_8</th>\n",
       "      <td>8</td>\n",
       "      <td>2002</td>\n",
       "      <td>24</td>\n",
       "    </tr>\n",
       "    <tr>\n",
       "      <th>s_2</th>\n",
       "      <td>2</td>\n",
       "      <td>1996</td>\n",
       "      <td>24</td>\n",
       "    </tr>\n",
       "  </tbody>\n",
       "</table>\n",
       "</div>"
      ],
      "text/plain": [
       "           Season  Year_of_prod  Episode Number\n",
       "Season ID                                      \n",
       "s_6             6          2000              25\n",
       "s_8             8          2002              24\n",
       "s_2             2          1996              24"
      ]
     },
     "execution_count": 36,
     "metadata": {},
     "output_type": "execute_result"
    }
   ],
   "source": [
    "temporadas = data.loc[:,[\"Season ID\",\"Season\",\"Year_of_prod\",\"Episode Number\"]].groupby(\"Season ID\").max()\n",
    "temporadas.to_csv(\"data/temporadas.csv\")\n",
    "temporadas.sample(3)"
   ]
  },
  {
   "cell_type": "code",
   "execution_count": 22,
   "metadata": {},
   "outputs": [
    {
     "data": {
      "text/html": [
       "<div>\n",
       "<style scoped>\n",
       "    .dataframe tbody tr th:only-of-type {\n",
       "        vertical-align: middle;\n",
       "    }\n",
       "\n",
       "    .dataframe tbody tr th {\n",
       "        vertical-align: top;\n",
       "    }\n",
       "\n",
       "    .dataframe thead th {\n",
       "        text-align: right;\n",
       "    }\n",
       "</style>\n",
       "<table border=\"1\" class=\"dataframe\">\n",
       "  <thead>\n",
       "    <tr style=\"text-align: right;\">\n",
       "      <th></th>\n",
       "      <th>Episode ID</th>\n",
       "      <th>Season</th>\n",
       "      <th>Season ID</th>\n",
       "      <th>Director ID</th>\n",
       "      <th>Episode Number</th>\n",
       "      <th>Episode_Title</th>\n",
       "      <th>Duration</th>\n",
       "      <th>Summary</th>\n",
       "      <th>SIA</th>\n",
       "    </tr>\n",
       "  </thead>\n",
       "  <tbody>\n",
       "    <tr>\n",
       "      <th>15</th>\n",
       "      <td>1_16</td>\n",
       "      <td>1</td>\n",
       "      <td>s_1</td>\n",
       "      <td>DI_Mic</td>\n",
       "      <td>16</td>\n",
       "      <td>The One with Two Parts: Part 1</td>\n",
       "      <td>22</td>\n",
       "      <td>Phoebe feels neglected when Joey falls for her...</td>\n",
       "      <td>-0.6597</td>\n",
       "    </tr>\n",
       "    <tr>\n",
       "      <th>118</th>\n",
       "      <td>5_22</td>\n",
       "      <td>5</td>\n",
       "      <td>s_5</td>\n",
       "      <td>DI_Gao</td>\n",
       "      <td>22</td>\n",
       "      <td>The One with Joey's Big Break</td>\n",
       "      <td>22</td>\n",
       "      <td>Joey drives to Las Vegas to shoot to shoot a n...</td>\n",
       "      <td>-0.8910</td>\n",
       "    </tr>\n",
       "  </tbody>\n",
       "</table>\n",
       "</div>"
      ],
      "text/plain": [
       "    Episode ID  Season Season ID Director ID  Episode Number  \\\n",
       "15        1_16       1       s_1      DI_Mic              16   \n",
       "118       5_22       5       s_5      DI_Gao              22   \n",
       "\n",
       "                      Episode_Title  Duration  \\\n",
       "15   The One with Two Parts: Part 1        22   \n",
       "118   The One with Joey's Big Break        22   \n",
       "\n",
       "                                               Summary     SIA  \n",
       "15   Phoebe feels neglected when Joey falls for her... -0.6597  \n",
       "118  Joey drives to Las Vegas to shoot to shoot a n... -0.8910  "
      ]
     },
     "execution_count": 22,
     "metadata": {},
     "output_type": "execute_result"
    }
   ],
   "source": [
    "episodes = data.loc[:,[\"Episode ID\",\"Season\",\"Season ID\",\"Director ID\", \"Episode Number\",\"Episode_Title\",\"Duration\",\"Summary\",\"SIA\"]]\n",
    "episodes.to_csv(\"data/episodios.csv\")\n",
    "episodes.sample(2)"
   ]
  },
  {
   "cell_type": "code",
   "execution_count": 24,
   "metadata": {},
   "outputs": [
    {
     "data": {
      "text/html": [
       "<div>\n",
       "<style scoped>\n",
       "    .dataframe tbody tr th:only-of-type {\n",
       "        vertical-align: middle;\n",
       "    }\n",
       "\n",
       "    .dataframe tbody tr th {\n",
       "        vertical-align: top;\n",
       "    }\n",
       "\n",
       "    .dataframe thead th {\n",
       "        text-align: right;\n",
       "    }\n",
       "</style>\n",
       "<table border=\"1\" class=\"dataframe\">\n",
       "  <thead>\n",
       "    <tr style=\"text-align: right;\">\n",
       "      <th></th>\n",
       "      <th>Director ID</th>\n",
       "      <th>Director</th>\n",
       "      <th>Episode Number</th>\n",
       "      <th>Season</th>\n",
       "    </tr>\n",
       "  </thead>\n",
       "  <tbody>\n",
       "    <tr>\n",
       "      <th>0</th>\n",
       "      <td>DI_Jaw</td>\n",
       "      <td>James Burrows</td>\n",
       "      <td>1</td>\n",
       "      <td>1</td>\n",
       "    </tr>\n",
       "    <tr>\n",
       "      <th>1</th>\n",
       "      <td>DI_Jaw</td>\n",
       "      <td>James Burrows</td>\n",
       "      <td>2</td>\n",
       "      <td>1</td>\n",
       "    </tr>\n",
       "    <tr>\n",
       "      <th>2</th>\n",
       "      <td>DI_Jaw</td>\n",
       "      <td>James Burrows</td>\n",
       "      <td>3</td>\n",
       "      <td>1</td>\n",
       "    </tr>\n",
       "    <tr>\n",
       "      <th>3</th>\n",
       "      <td>DI_Jaw</td>\n",
       "      <td>James Burrows</td>\n",
       "      <td>4</td>\n",
       "      <td>1</td>\n",
       "    </tr>\n",
       "    <tr>\n",
       "      <th>4</th>\n",
       "      <td>DI_Paa</td>\n",
       "      <td>Pamela Fryman</td>\n",
       "      <td>5</td>\n",
       "      <td>1</td>\n",
       "    </tr>\n",
       "    <tr>\n",
       "      <th>...</th>\n",
       "      <td>...</td>\n",
       "      <td>...</td>\n",
       "      <td>...</td>\n",
       "      <td>...</td>\n",
       "    </tr>\n",
       "    <tr>\n",
       "      <th>231</th>\n",
       "      <td>DI_Gao</td>\n",
       "      <td>Gary Halvorson</td>\n",
       "      <td>14</td>\n",
       "      <td>10</td>\n",
       "    </tr>\n",
       "    <tr>\n",
       "      <th>232</th>\n",
       "      <td>DI_Gao</td>\n",
       "      <td>Gary Halvorson</td>\n",
       "      <td>15</td>\n",
       "      <td>10</td>\n",
       "    </tr>\n",
       "    <tr>\n",
       "      <th>233</th>\n",
       "      <td>DI_Gao</td>\n",
       "      <td>Gary Halvorson</td>\n",
       "      <td>16</td>\n",
       "      <td>10</td>\n",
       "    </tr>\n",
       "    <tr>\n",
       "      <th>234</th>\n",
       "      <td>DI_Keh</td>\n",
       "      <td>Kevin Bright</td>\n",
       "      <td>17</td>\n",
       "      <td>10</td>\n",
       "    </tr>\n",
       "    <tr>\n",
       "      <th>235</th>\n",
       "      <td>DI_Keh</td>\n",
       "      <td>Kevin Bright</td>\n",
       "      <td>18</td>\n",
       "      <td>10</td>\n",
       "    </tr>\n",
       "  </tbody>\n",
       "</table>\n",
       "<p>236 rows × 4 columns</p>\n",
       "</div>"
      ],
      "text/plain": [
       "    Director ID        Director  Episode Number  Season\n",
       "0        DI_Jaw   James Burrows               1       1\n",
       "1        DI_Jaw   James Burrows               2       1\n",
       "2        DI_Jaw   James Burrows               3       1\n",
       "3        DI_Jaw   James Burrows               4       1\n",
       "4        DI_Paa   Pamela Fryman               5       1\n",
       "..          ...             ...             ...     ...\n",
       "231      DI_Gao  Gary Halvorson              14      10\n",
       "232      DI_Gao  Gary Halvorson              15      10\n",
       "233      DI_Gao  Gary Halvorson              16      10\n",
       "234      DI_Keh    Kevin Bright              17      10\n",
       "235      DI_Keh    Kevin Bright              18      10\n",
       "\n",
       "[236 rows x 4 columns]"
      ]
     },
     "execution_count": 24,
     "metadata": {},
     "output_type": "execute_result"
    }
   ],
   "source": [
    "production = data.loc[:,[\"Director ID\",\"Director\", \"Episode Number\",\"Season\"]]\n",
    "production"
   ]
  },
  {
   "cell_type": "code",
   "execution_count": 18,
   "metadata": {},
   "outputs": [],
   "source": [
    "a = data[\"Director\"].value_counts()"
   ]
  },
  {
   "cell_type": "code",
   "execution_count": 19,
   "metadata": {},
   "outputs": [],
   "source": [
    "name = list(a.keys())\n",
    "epi = list(a.values)"
   ]
  },
  {
   "cell_type": "code",
   "execution_count": 20,
   "metadata": {},
   "outputs": [],
   "source": [
    "director = pd.DataFrame(list(zip(name,epi)), columns = ['Name','Number of episodes'])"
   ]
  },
  {
   "cell_type": "code",
   "execution_count": 21,
   "metadata": {},
   "outputs": [],
   "source": [
    "director[\"Director ID\"] = director.apply(lambda row: f\"DI_{row['Name'][0]}{row['Name'][1]}{row['Name'][-2]}\", axis = 1)\n",
    "director.to_csv(\"data/director.csv\")"
   ]
  },
  {
   "cell_type": "code",
   "execution_count": 22,
   "metadata": {},
   "outputs": [],
   "source": [
    "rank = data.loc[:,[\"Episode ID\",\"Stars\",\"Votes\"]]\n",
    "rank.to_csv(\"data/rank.csv\")"
   ]
  },
  {
   "cell_type": "code",
   "execution_count": null,
   "metadata": {},
   "outputs": [],
   "source": []
  }
 ],
 "metadata": {
  "kernelspec": {
   "display_name": "Python 3",
   "language": "python",
   "name": "python3"
  },
  "language_info": {
   "codemirror_mode": {
    "name": "ipython",
    "version": 3
   },
   "file_extension": ".py",
   "mimetype": "text/x-python",
   "name": "python",
   "nbconvert_exporter": "python",
   "pygments_lexer": "ipython3",
   "version": "3.8.5"
  },
  "toc": {
   "base_numbering": 1,
   "nav_menu": {},
   "number_sections": true,
   "sideBar": true,
   "skip_h1_title": false,
   "title_cell": "Table of Contents",
   "title_sidebar": "Contents",
   "toc_cell": false,
   "toc_position": {},
   "toc_section_display": true,
   "toc_window_display": false
  }
 },
 "nbformat": 4,
 "nbformat_minor": 4
}
