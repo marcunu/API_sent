{
 "cells": [
  {
   "cell_type": "markdown",
   "metadata": {},
   "source": [
    "# Import libraries"
   ]
  },
  {
   "cell_type": "code",
   "execution_count": 19,
   "metadata": {},
   "outputs": [],
   "source": [
    "import pandas as pd\n",
    "import tools.functions as fun\n",
    "\n",
    "#regex\n",
    "import re\n",
    "\n",
    "#NLTK\n",
    "import nltk\n",
    "from nltk.sentiment.vader import SentimentIntensityAnalyzer\n",
    "from nltk.tokenize import RegexpTokenizer\n",
    "from nltk.corpus import stopwords\n",
    "\n",
    "#TextBlob\n",
    "from textblob import TextBlob\n",
    "\n",
    "#SpaCy\n",
    "import spacy\n",
    "from spacy import displacy\n",
    "\n",
    "#Others\n",
    "#import speech_recognition as sr\n",
    "#import pyaudio"
   ]
  },
  {
   "cell_type": "code",
   "execution_count": 20,
   "metadata": {},
   "outputs": [],
   "source": [
    "#!pip3 install textblob"
   ]
  },
  {
   "cell_type": "code",
   "execution_count": 21,
   "metadata": {},
   "outputs": [],
   "source": [
    "#!pip3 install spacy"
   ]
  },
  {
   "cell_type": "code",
   "execution_count": 22,
   "metadata": {},
   "outputs": [],
   "source": [
    "#!pip3 install nltk"
   ]
  },
  {
   "cell_type": "code",
   "execution_count": 23,
   "metadata": {},
   "outputs": [],
   "source": [
    "#!pip3 install --upgrade speechrecognition"
   ]
  },
  {
   "cell_type": "code",
   "execution_count": 24,
   "metadata": {},
   "outputs": [
    {
     "data": {
      "text/html": [
       "<div>\n",
       "<style scoped>\n",
       "    .dataframe tbody tr th:only-of-type {\n",
       "        vertical-align: middle;\n",
       "    }\n",
       "\n",
       "    .dataframe tbody tr th {\n",
       "        vertical-align: top;\n",
       "    }\n",
       "\n",
       "    .dataframe thead th {\n",
       "        text-align: right;\n",
       "    }\n",
       "</style>\n",
       "<table border=\"1\" class=\"dataframe\">\n",
       "  <thead>\n",
       "    <tr style=\"text-align: right;\">\n",
       "      <th></th>\n",
       "      <th>Year_of_prod</th>\n",
       "      <th>Season</th>\n",
       "      <th>Episode Number</th>\n",
       "      <th>Episode_Title</th>\n",
       "      <th>Duration</th>\n",
       "      <th>Summary</th>\n",
       "      <th>Director</th>\n",
       "      <th>Stars</th>\n",
       "      <th>Votes</th>\n",
       "    </tr>\n",
       "  </thead>\n",
       "  <tbody>\n",
       "    <tr>\n",
       "      <th>0</th>\n",
       "      <td>1994</td>\n",
       "      <td>1</td>\n",
       "      <td>1</td>\n",
       "      <td>The One Where Monica Gets a Roommate: The Pilot</td>\n",
       "      <td>22</td>\n",
       "      <td>Monica and the gang introduce Rachel to the \"r...</td>\n",
       "      <td>James Burrows</td>\n",
       "      <td>8.3</td>\n",
       "      <td>7440</td>\n",
       "    </tr>\n",
       "    <tr>\n",
       "      <th>1</th>\n",
       "      <td>1994</td>\n",
       "      <td>1</td>\n",
       "      <td>2</td>\n",
       "      <td>The One with the Sonogram at the End</td>\n",
       "      <td>22</td>\n",
       "      <td>Ross finds out his ex-wife is pregnant. Rachel...</td>\n",
       "      <td>James Burrows</td>\n",
       "      <td>8.1</td>\n",
       "      <td>4888</td>\n",
       "    </tr>\n",
       "    <tr>\n",
       "      <th>2</th>\n",
       "      <td>1994</td>\n",
       "      <td>1</td>\n",
       "      <td>3</td>\n",
       "      <td>The One with the Thumb</td>\n",
       "      <td>22</td>\n",
       "      <td>Monica becomes irritated when everyone likes h...</td>\n",
       "      <td>James Burrows</td>\n",
       "      <td>8.2</td>\n",
       "      <td>4605</td>\n",
       "    </tr>\n",
       "  </tbody>\n",
       "</table>\n",
       "</div>"
      ],
      "text/plain": [
       "   Year_of_prod  Season  Episode Number  \\\n",
       "0          1994       1               1   \n",
       "1          1994       1               2   \n",
       "2          1994       1               3   \n",
       "\n",
       "                                     Episode_Title  Duration  \\\n",
       "0  The One Where Monica Gets a Roommate: The Pilot        22   \n",
       "1             The One with the Sonogram at the End        22   \n",
       "2                           The One with the Thumb        22   \n",
       "\n",
       "                                             Summary       Director  Stars  \\\n",
       "0  Monica and the gang introduce Rachel to the \"r...  James Burrows    8.3   \n",
       "1  Ross finds out his ex-wife is pregnant. Rachel...  James Burrows    8.1   \n",
       "2  Monica becomes irritated when everyone likes h...  James Burrows    8.2   \n",
       "\n",
       "   Votes  \n",
       "0   7440  \n",
       "1   4888  \n",
       "2   4605  "
      ]
     },
     "execution_count": 24,
     "metadata": {},
     "output_type": "execute_result"
    }
   ],
   "source": [
    "df = pd.read_csv(\"data/friends_episodes_v3.csv\")\n",
    "df.head(3)"
   ]
  },
  {
   "cell_type": "markdown",
   "metadata": {},
   "source": [
    "# Tokenization"
   ]
  },
  {
   "cell_type": "code",
   "execution_count": 7,
   "metadata": {},
   "outputs": [
    {
     "name": "stderr",
     "output_type": "stream",
     "text": [
      "[nltk_data] Downloading package punkt to /home/marcunu/nltk_data...\n",
      "[nltk_data]   Package punkt is already up-to-date!\n"
     ]
    },
    {
     "data": {
      "text/plain": [
       "True"
      ]
     },
     "execution_count": 7,
     "metadata": {},
     "output_type": "execute_result"
    }
   ],
   "source": [
    "nltk.download(\"punkt\")"
   ]
  },
  {
   "cell_type": "code",
   "execution_count": 8,
   "metadata": {},
   "outputs": [
    {
     "data": {
      "text/plain": [
       "['Monica',\n",
       " 'and',\n",
       " 'the',\n",
       " 'gang',\n",
       " 'introduce',\n",
       " 'Rachel',\n",
       " 'to',\n",
       " 'the',\n",
       " 'real',\n",
       " 'world',\n",
       " 'after',\n",
       " 'she',\n",
       " 'leaves',\n",
       " 'her',\n",
       " 'fianc',\n",
       " 'at',\n",
       " 'the',\n",
       " 'altar']"
      ]
     },
     "execution_count": 8,
     "metadata": {},
     "output_type": "execute_result"
    }
   ],
   "source": [
    "tokenizer = RegexpTokenizer(r\"\\w+\")\n",
    "tokens = tokenizer.tokenize(df.iloc[0][\"Summary\"])\n",
    "tokens"
   ]
  },
  {
   "cell_type": "code",
   "execution_count": 9,
   "metadata": {},
   "outputs": [
    {
     "data": {
      "text/html": [
       "<div>\n",
       "<style scoped>\n",
       "    .dataframe tbody tr th:only-of-type {\n",
       "        vertical-align: middle;\n",
       "    }\n",
       "\n",
       "    .dataframe tbody tr th {\n",
       "        vertical-align: top;\n",
       "    }\n",
       "\n",
       "    .dataframe thead th {\n",
       "        text-align: right;\n",
       "    }\n",
       "</style>\n",
       "<table border=\"1\" class=\"dataframe\">\n",
       "  <thead>\n",
       "    <tr style=\"text-align: right;\">\n",
       "      <th></th>\n",
       "      <th>Year_of_prod</th>\n",
       "      <th>Season</th>\n",
       "      <th>Episode Number</th>\n",
       "      <th>Episode_Title</th>\n",
       "      <th>Duration</th>\n",
       "      <th>Summary</th>\n",
       "      <th>Director</th>\n",
       "      <th>Stars</th>\n",
       "      <th>Votes</th>\n",
       "      <th>token</th>\n",
       "    </tr>\n",
       "  </thead>\n",
       "  <tbody>\n",
       "    <tr>\n",
       "      <th>0</th>\n",
       "      <td>1994</td>\n",
       "      <td>1</td>\n",
       "      <td>1</td>\n",
       "      <td>The One Where Monica Gets a Roommate: The Pilot</td>\n",
       "      <td>22</td>\n",
       "      <td>Monica and the gang introduce Rachel to the \"r...</td>\n",
       "      <td>James Burrows</td>\n",
       "      <td>8.3</td>\n",
       "      <td>7440</td>\n",
       "      <td>[Monica, and, the, gang, introduce, Rachel, to...</td>\n",
       "    </tr>\n",
       "    <tr>\n",
       "      <th>1</th>\n",
       "      <td>1994</td>\n",
       "      <td>1</td>\n",
       "      <td>2</td>\n",
       "      <td>The One with the Sonogram at the End</td>\n",
       "      <td>22</td>\n",
       "      <td>Ross finds out his ex-wife is pregnant. Rachel...</td>\n",
       "      <td>James Burrows</td>\n",
       "      <td>8.1</td>\n",
       "      <td>4888</td>\n",
       "      <td>[Ross, finds, out, his, ex, wife, is, pregnant...</td>\n",
       "    </tr>\n",
       "    <tr>\n",
       "      <th>2</th>\n",
       "      <td>1994</td>\n",
       "      <td>1</td>\n",
       "      <td>3</td>\n",
       "      <td>The One with the Thumb</td>\n",
       "      <td>22</td>\n",
       "      <td>Monica becomes irritated when everyone likes h...</td>\n",
       "      <td>James Burrows</td>\n",
       "      <td>8.2</td>\n",
       "      <td>4605</td>\n",
       "      <td>[Monica, becomes, irritated, when, everyone, l...</td>\n",
       "    </tr>\n",
       "    <tr>\n",
       "      <th>3</th>\n",
       "      <td>1994</td>\n",
       "      <td>1</td>\n",
       "      <td>4</td>\n",
       "      <td>The One with George Stephanopoulos</td>\n",
       "      <td>22</td>\n",
       "      <td>Joey and Chandler take Ross to a hockey game t...</td>\n",
       "      <td>James Burrows</td>\n",
       "      <td>8.1</td>\n",
       "      <td>4468</td>\n",
       "      <td>[Joey, and, Chandler, take, Ross, to, a, hocke...</td>\n",
       "    </tr>\n",
       "    <tr>\n",
       "      <th>4</th>\n",
       "      <td>1994</td>\n",
       "      <td>1</td>\n",
       "      <td>5</td>\n",
       "      <td>The One with the East German Laundry Detergent</td>\n",
       "      <td>22</td>\n",
       "      <td>Eager to spend time with Rachel, Ross pretends...</td>\n",
       "      <td>Pamela Fryman</td>\n",
       "      <td>8.5</td>\n",
       "      <td>4438</td>\n",
       "      <td>[Eager, to, spend, time, with, Rachel, Ross, p...</td>\n",
       "    </tr>\n",
       "  </tbody>\n",
       "</table>\n",
       "</div>"
      ],
      "text/plain": [
       "   Year_of_prod  Season  Episode Number  \\\n",
       "0          1994       1               1   \n",
       "1          1994       1               2   \n",
       "2          1994       1               3   \n",
       "3          1994       1               4   \n",
       "4          1994       1               5   \n",
       "\n",
       "                                     Episode_Title  Duration  \\\n",
       "0  The One Where Monica Gets a Roommate: The Pilot        22   \n",
       "1             The One with the Sonogram at the End        22   \n",
       "2                           The One with the Thumb        22   \n",
       "3               The One with George Stephanopoulos        22   \n",
       "4   The One with the East German Laundry Detergent        22   \n",
       "\n",
       "                                             Summary       Director  Stars  \\\n",
       "0  Monica and the gang introduce Rachel to the \"r...  James Burrows    8.3   \n",
       "1  Ross finds out his ex-wife is pregnant. Rachel...  James Burrows    8.1   \n",
       "2  Monica becomes irritated when everyone likes h...  James Burrows    8.2   \n",
       "3  Joey and Chandler take Ross to a hockey game t...  James Burrows    8.1   \n",
       "4  Eager to spend time with Rachel, Ross pretends...  Pamela Fryman    8.5   \n",
       "\n",
       "   Votes                                              token  \n",
       "0   7440  [Monica, and, the, gang, introduce, Rachel, to...  \n",
       "1   4888  [Ross, finds, out, his, ex, wife, is, pregnant...  \n",
       "2   4605  [Monica, becomes, irritated, when, everyone, l...  \n",
       "3   4468  [Joey, and, Chandler, take, Ross, to, a, hocke...  \n",
       "4   4438  [Eager, to, spend, time, with, Rachel, Ross, p...  "
      ]
     },
     "execution_count": 9,
     "metadata": {},
     "output_type": "execute_result"
    }
   ],
   "source": [
    "df[\"token\"] = df.Summary.apply(fun.token)\n",
    "df.head()"
   ]
  },
  {
   "cell_type": "markdown",
   "metadata": {},
   "source": [
    "# Stop Words"
   ]
  },
  {
   "cell_type": "code",
   "execution_count": 10,
   "metadata": {},
   "outputs": [
    {
     "name": "stderr",
     "output_type": "stream",
     "text": [
      "[nltk_data] Downloading package stopwords to\n",
      "[nltk_data]     /home/marcunu/nltk_data...\n",
      "[nltk_data]   Package stopwords is already up-to-date!\n"
     ]
    },
    {
     "data": {
      "text/plain": [
       "True"
      ]
     },
     "execution_count": 10,
     "metadata": {},
     "output_type": "execute_result"
    }
   ],
   "source": [
    "nltk.download(\"stopwords\")"
   ]
  },
  {
   "cell_type": "code",
   "execution_count": 11,
   "metadata": {},
   "outputs": [
    {
     "data": {
      "text/html": [
       "<div>\n",
       "<style scoped>\n",
       "    .dataframe tbody tr th:only-of-type {\n",
       "        vertical-align: middle;\n",
       "    }\n",
       "\n",
       "    .dataframe tbody tr th {\n",
       "        vertical-align: top;\n",
       "    }\n",
       "\n",
       "    .dataframe thead th {\n",
       "        text-align: right;\n",
       "    }\n",
       "</style>\n",
       "<table border=\"1\" class=\"dataframe\">\n",
       "  <thead>\n",
       "    <tr style=\"text-align: right;\">\n",
       "      <th></th>\n",
       "      <th>Year_of_prod</th>\n",
       "      <th>Season</th>\n",
       "      <th>Episode Number</th>\n",
       "      <th>Episode_Title</th>\n",
       "      <th>Duration</th>\n",
       "      <th>Summary</th>\n",
       "      <th>Director</th>\n",
       "      <th>Stars</th>\n",
       "      <th>Votes</th>\n",
       "      <th>token</th>\n",
       "    </tr>\n",
       "  </thead>\n",
       "  <tbody>\n",
       "    <tr>\n",
       "      <th>0</th>\n",
       "      <td>1994</td>\n",
       "      <td>1</td>\n",
       "      <td>1</td>\n",
       "      <td>The One Where Monica Gets a Roommate: The Pilot</td>\n",
       "      <td>22</td>\n",
       "      <td>Monica and the gang introduce Rachel to the \"r...</td>\n",
       "      <td>James Burrows</td>\n",
       "      <td>8.3</td>\n",
       "      <td>7440</td>\n",
       "      <td>Monica gang introduce Rachel real world leaves...</td>\n",
       "    </tr>\n",
       "    <tr>\n",
       "      <th>1</th>\n",
       "      <td>1994</td>\n",
       "      <td>1</td>\n",
       "      <td>2</td>\n",
       "      <td>The One with the Sonogram at the End</td>\n",
       "      <td>22</td>\n",
       "      <td>Ross finds out his ex-wife is pregnant. Rachel...</td>\n",
       "      <td>James Burrows</td>\n",
       "      <td>8.1</td>\n",
       "      <td>4888</td>\n",
       "      <td>Ross finds ex wife pregnant Rachel returns eng...</td>\n",
       "    </tr>\n",
       "    <tr>\n",
       "      <th>2</th>\n",
       "      <td>1994</td>\n",
       "      <td>1</td>\n",
       "      <td>3</td>\n",
       "      <td>The One with the Thumb</td>\n",
       "      <td>22</td>\n",
       "      <td>Monica becomes irritated when everyone likes h...</td>\n",
       "      <td>James Burrows</td>\n",
       "      <td>8.2</td>\n",
       "      <td>4605</td>\n",
       "      <td>Monica becomes irritated everyone likes new bo...</td>\n",
       "    </tr>\n",
       "    <tr>\n",
       "      <th>3</th>\n",
       "      <td>1994</td>\n",
       "      <td>1</td>\n",
       "      <td>4</td>\n",
       "      <td>The One with George Stephanopoulos</td>\n",
       "      <td>22</td>\n",
       "      <td>Joey and Chandler take Ross to a hockey game t...</td>\n",
       "      <td>James Burrows</td>\n",
       "      <td>8.1</td>\n",
       "      <td>4468</td>\n",
       "      <td>Joey Chandler take Ross hockey game take mind ...</td>\n",
       "    </tr>\n",
       "    <tr>\n",
       "      <th>4</th>\n",
       "      <td>1994</td>\n",
       "      <td>1</td>\n",
       "      <td>5</td>\n",
       "      <td>The One with the East German Laundry Detergent</td>\n",
       "      <td>22</td>\n",
       "      <td>Eager to spend time with Rachel, Ross pretends...</td>\n",
       "      <td>Pamela Fryman</td>\n",
       "      <td>8.5</td>\n",
       "      <td>4438</td>\n",
       "      <td>Eager spend time Rachel Ross pretends washroom...</td>\n",
       "    </tr>\n",
       "  </tbody>\n",
       "</table>\n",
       "</div>"
      ],
      "text/plain": [
       "   Year_of_prod  Season  Episode Number  \\\n",
       "0          1994       1               1   \n",
       "1          1994       1               2   \n",
       "2          1994       1               3   \n",
       "3          1994       1               4   \n",
       "4          1994       1               5   \n",
       "\n",
       "                                     Episode_Title  Duration  \\\n",
       "0  The One Where Monica Gets a Roommate: The Pilot        22   \n",
       "1             The One with the Sonogram at the End        22   \n",
       "2                           The One with the Thumb        22   \n",
       "3               The One with George Stephanopoulos        22   \n",
       "4   The One with the East German Laundry Detergent        22   \n",
       "\n",
       "                                             Summary       Director  Stars  \\\n",
       "0  Monica and the gang introduce Rachel to the \"r...  James Burrows    8.3   \n",
       "1  Ross finds out his ex-wife is pregnant. Rachel...  James Burrows    8.1   \n",
       "2  Monica becomes irritated when everyone likes h...  James Burrows    8.2   \n",
       "3  Joey and Chandler take Ross to a hockey game t...  James Burrows    8.1   \n",
       "4  Eager to spend time with Rachel, Ross pretends...  Pamela Fryman    8.5   \n",
       "\n",
       "   Votes                                              token  \n",
       "0   7440  Monica gang introduce Rachel real world leaves...  \n",
       "1   4888  Ross finds ex wife pregnant Rachel returns eng...  \n",
       "2   4605  Monica becomes irritated everyone likes new bo...  \n",
       "3   4468  Joey Chandler take Ross hockey game take mind ...  \n",
       "4   4438  Eager spend time Rachel Ross pretends washroom...  "
      ]
     },
     "execution_count": 11,
     "metadata": {},
     "output_type": "execute_result"
    }
   ],
   "source": [
    "df.token = df.token.apply(fun.stop_words)\n",
    "df.head()"
   ]
  },
  {
   "cell_type": "markdown",
   "metadata": {},
   "source": [
    "# Sentiment Analysis"
   ]
  },
  {
   "cell_type": "code",
   "execution_count": 12,
   "metadata": {},
   "outputs": [],
   "source": [
    "the_string = \"i hate it here\""
   ]
  },
  {
   "cell_type": "code",
   "execution_count": 13,
   "metadata": {},
   "outputs": [
    {
     "data": {
      "text/plain": [
       "Sentiment(polarity=-0.8, subjectivity=0.9)"
      ]
     },
     "execution_count": 13,
     "metadata": {},
     "output_type": "execute_result"
    }
   ],
   "source": [
    "blob = TextBlob(the_string)\n",
    "blob.sentiment"
   ]
  },
  {
   "cell_type": "code",
   "execution_count": 14,
   "metadata": {
    "scrolled": true
   },
   "outputs": [],
   "source": [
    "#nltk.download(\"vader_lexicon\")"
   ]
  },
  {
   "cell_type": "code",
   "execution_count": 15,
   "metadata": {},
   "outputs": [
    {
     "data": {
      "text/plain": [
       "{'neg': 0.0, 'neu': 0.339, 'pos': 0.661, 'compound': 0.5994}"
      ]
     },
     "execution_count": 15,
     "metadata": {},
     "output_type": "execute_result"
    }
   ],
   "source": [
    "sia = SentimentIntensityAnalyzer()\n",
    "\n",
    "sentence = \"this is beautiful\"\n",
    "polarity = sia.polarity_scores(sentence)\n",
    "polarity"
   ]
  },
  {
   "cell_type": "code",
   "execution_count": 16,
   "metadata": {},
   "outputs": [
    {
     "data": {
      "text/plain": [
       "0.5994"
      ]
     },
     "execution_count": 16,
     "metadata": {},
     "output_type": "execute_result"
    }
   ],
   "source": [
    "fun.sent_analysis(sentence)"
   ]
  },
  {
   "cell_type": "code",
   "execution_count": 17,
   "metadata": {},
   "outputs": [
    {
     "data": {
      "text/html": [
       "<div>\n",
       "<style scoped>\n",
       "    .dataframe tbody tr th:only-of-type {\n",
       "        vertical-align: middle;\n",
       "    }\n",
       "\n",
       "    .dataframe tbody tr th {\n",
       "        vertical-align: top;\n",
       "    }\n",
       "\n",
       "    .dataframe thead th {\n",
       "        text-align: right;\n",
       "    }\n",
       "</style>\n",
       "<table border=\"1\" class=\"dataframe\">\n",
       "  <thead>\n",
       "    <tr style=\"text-align: right;\">\n",
       "      <th></th>\n",
       "      <th>Year_of_prod</th>\n",
       "      <th>Season</th>\n",
       "      <th>Episode Number</th>\n",
       "      <th>Episode_Title</th>\n",
       "      <th>Duration</th>\n",
       "      <th>Summary</th>\n",
       "      <th>Director</th>\n",
       "      <th>Stars</th>\n",
       "      <th>Votes</th>\n",
       "      <th>token</th>\n",
       "      <th>SIA</th>\n",
       "    </tr>\n",
       "  </thead>\n",
       "  <tbody>\n",
       "    <tr>\n",
       "      <th>0</th>\n",
       "      <td>1994</td>\n",
       "      <td>1</td>\n",
       "      <td>1</td>\n",
       "      <td>The One Where Monica Gets a Roommate: The Pilot</td>\n",
       "      <td>22</td>\n",
       "      <td>Monica and the gang introduce Rachel to the \"r...</td>\n",
       "      <td>James Burrows</td>\n",
       "      <td>8.3</td>\n",
       "      <td>7440</td>\n",
       "      <td>Monica gang introduce Rachel real world leaves...</td>\n",
       "      <td>0.0000</td>\n",
       "    </tr>\n",
       "    <tr>\n",
       "      <th>1</th>\n",
       "      <td>1994</td>\n",
       "      <td>1</td>\n",
       "      <td>2</td>\n",
       "      <td>The One with the Sonogram at the End</td>\n",
       "      <td>22</td>\n",
       "      <td>Ross finds out his ex-wife is pregnant. Rachel...</td>\n",
       "      <td>James Burrows</td>\n",
       "      <td>8.1</td>\n",
       "      <td>4888</td>\n",
       "      <td>Ross finds ex wife pregnant Rachel returns eng...</td>\n",
       "      <td>0.1531</td>\n",
       "    </tr>\n",
       "    <tr>\n",
       "      <th>2</th>\n",
       "      <td>1994</td>\n",
       "      <td>1</td>\n",
       "      <td>3</td>\n",
       "      <td>The One with the Thumb</td>\n",
       "      <td>22</td>\n",
       "      <td>Monica becomes irritated when everyone likes h...</td>\n",
       "      <td>James Burrows</td>\n",
       "      <td>8.2</td>\n",
       "      <td>4605</td>\n",
       "      <td>Monica becomes irritated everyone likes new bo...</td>\n",
       "      <td>-0.0516</td>\n",
       "    </tr>\n",
       "    <tr>\n",
       "      <th>3</th>\n",
       "      <td>1994</td>\n",
       "      <td>1</td>\n",
       "      <td>4</td>\n",
       "      <td>The One with George Stephanopoulos</td>\n",
       "      <td>22</td>\n",
       "      <td>Joey and Chandler take Ross to a hockey game t...</td>\n",
       "      <td>James Burrows</td>\n",
       "      <td>8.1</td>\n",
       "      <td>4468</td>\n",
       "      <td>Joey Chandler take Ross hockey game take mind ...</td>\n",
       "      <td>-0.5106</td>\n",
       "    </tr>\n",
       "    <tr>\n",
       "      <th>4</th>\n",
       "      <td>1994</td>\n",
       "      <td>1</td>\n",
       "      <td>5</td>\n",
       "      <td>The One with the East German Laundry Detergent</td>\n",
       "      <td>22</td>\n",
       "      <td>Eager to spend time with Rachel, Ross pretends...</td>\n",
       "      <td>Pamela Fryman</td>\n",
       "      <td>8.5</td>\n",
       "      <td>4438</td>\n",
       "      <td>Eager spend time Rachel Ross pretends washroom...</td>\n",
       "      <td>0.2023</td>\n",
       "    </tr>\n",
       "    <tr>\n",
       "      <th>...</th>\n",
       "      <td>...</td>\n",
       "      <td>...</td>\n",
       "      <td>...</td>\n",
       "      <td>...</td>\n",
       "      <td>...</td>\n",
       "      <td>...</td>\n",
       "      <td>...</td>\n",
       "      <td>...</td>\n",
       "      <td>...</td>\n",
       "      <td>...</td>\n",
       "      <td>...</td>\n",
       "    </tr>\n",
       "    <tr>\n",
       "      <th>231</th>\n",
       "      <td>2004</td>\n",
       "      <td>10</td>\n",
       "      <td>14</td>\n",
       "      <td>The One with Princess Consuela</td>\n",
       "      <td>22</td>\n",
       "      <td>When Phoebe goes to get her name changed she r...</td>\n",
       "      <td>Gary Halvorson</td>\n",
       "      <td>8.6</td>\n",
       "      <td>2989</td>\n",
       "      <td>When Phoebe goes get name changed realizes cha...</td>\n",
       "      <td>0.0000</td>\n",
       "    </tr>\n",
       "    <tr>\n",
       "      <th>232</th>\n",
       "      <td>2004</td>\n",
       "      <td>10</td>\n",
       "      <td>15</td>\n",
       "      <td>The One Where Estelle Dies</td>\n",
       "      <td>22</td>\n",
       "      <td>Ross tries to get Rachel to go back to Ralph L...</td>\n",
       "      <td>Gary Halvorson</td>\n",
       "      <td>8.5</td>\n",
       "      <td>2771</td>\n",
       "      <td>Ross tries get Rachel go back Ralph Lauren Joe...</td>\n",
       "      <td>-0.5574</td>\n",
       "    </tr>\n",
       "    <tr>\n",
       "      <th>233</th>\n",
       "      <td>2004</td>\n",
       "      <td>10</td>\n",
       "      <td>16</td>\n",
       "      <td>The One with Rachel's Going Away Party</td>\n",
       "      <td>22</td>\n",
       "      <td>The gang throws Rachel a goodbye party, during...</td>\n",
       "      <td>Gary Halvorson</td>\n",
       "      <td>8.9</td>\n",
       "      <td>3141</td>\n",
       "      <td>The gang throws Rachel goodbye party says good...</td>\n",
       "      <td>0.4019</td>\n",
       "    </tr>\n",
       "    <tr>\n",
       "      <th>234</th>\n",
       "      <td>2004</td>\n",
       "      <td>10</td>\n",
       "      <td>17</td>\n",
       "      <td>The Last One: Part 1</td>\n",
       "      <td>30</td>\n",
       "      <td>Erica gives birth to the baby that Monica and ...</td>\n",
       "      <td>Kevin Bright</td>\n",
       "      <td>9.5</td>\n",
       "      <td>6221</td>\n",
       "      <td>Erica gives birth baby Monica Chandler adoptin...</td>\n",
       "      <td>0.2732</td>\n",
       "    </tr>\n",
       "    <tr>\n",
       "      <th>235</th>\n",
       "      <td>2004</td>\n",
       "      <td>10</td>\n",
       "      <td>18</td>\n",
       "      <td>The Last One: Part 2</td>\n",
       "      <td>30</td>\n",
       "      <td>Phoebe races Ross to the airport in a bid to s...</td>\n",
       "      <td>Kevin Bright</td>\n",
       "      <td>9.7</td>\n",
       "      <td>10381</td>\n",
       "      <td>Phoebe races Ross airport bid stop Rachel leav...</td>\n",
       "      <td>-0.2960</td>\n",
       "    </tr>\n",
       "  </tbody>\n",
       "</table>\n",
       "<p>236 rows × 11 columns</p>\n",
       "</div>"
      ],
      "text/plain": [
       "     Year_of_prod  Season  Episode Number  \\\n",
       "0            1994       1               1   \n",
       "1            1994       1               2   \n",
       "2            1994       1               3   \n",
       "3            1994       1               4   \n",
       "4            1994       1               5   \n",
       "..            ...     ...             ...   \n",
       "231          2004      10              14   \n",
       "232          2004      10              15   \n",
       "233          2004      10              16   \n",
       "234          2004      10              17   \n",
       "235          2004      10              18   \n",
       "\n",
       "                                       Episode_Title  Duration  \\\n",
       "0    The One Where Monica Gets a Roommate: The Pilot        22   \n",
       "1               The One with the Sonogram at the End        22   \n",
       "2                             The One with the Thumb        22   \n",
       "3                 The One with George Stephanopoulos        22   \n",
       "4     The One with the East German Laundry Detergent        22   \n",
       "..                                               ...       ...   \n",
       "231                   The One with Princess Consuela        22   \n",
       "232                       The One Where Estelle Dies        22   \n",
       "233           The One with Rachel's Going Away Party        22   \n",
       "234                             The Last One: Part 1        30   \n",
       "235                             The Last One: Part 2        30   \n",
       "\n",
       "                                               Summary        Director  Stars  \\\n",
       "0    Monica and the gang introduce Rachel to the \"r...   James Burrows    8.3   \n",
       "1    Ross finds out his ex-wife is pregnant. Rachel...   James Burrows    8.1   \n",
       "2    Monica becomes irritated when everyone likes h...   James Burrows    8.2   \n",
       "3    Joey and Chandler take Ross to a hockey game t...   James Burrows    8.1   \n",
       "4    Eager to spend time with Rachel, Ross pretends...   Pamela Fryman    8.5   \n",
       "..                                                 ...             ...    ...   \n",
       "231  When Phoebe goes to get her name changed she r...  Gary Halvorson    8.6   \n",
       "232  Ross tries to get Rachel to go back to Ralph L...  Gary Halvorson    8.5   \n",
       "233  The gang throws Rachel a goodbye party, during...  Gary Halvorson    8.9   \n",
       "234  Erica gives birth to the baby that Monica and ...    Kevin Bright    9.5   \n",
       "235  Phoebe races Ross to the airport in a bid to s...    Kevin Bright    9.7   \n",
       "\n",
       "     Votes                                              token     SIA  \n",
       "0     7440  Monica gang introduce Rachel real world leaves...  0.0000  \n",
       "1     4888  Ross finds ex wife pregnant Rachel returns eng...  0.1531  \n",
       "2     4605  Monica becomes irritated everyone likes new bo... -0.0516  \n",
       "3     4468  Joey Chandler take Ross hockey game take mind ... -0.5106  \n",
       "4     4438  Eager spend time Rachel Ross pretends washroom...  0.2023  \n",
       "..     ...                                                ...     ...  \n",
       "231   2989  When Phoebe goes get name changed realizes cha...  0.0000  \n",
       "232   2771  Ross tries get Rachel go back Ralph Lauren Joe... -0.5574  \n",
       "233   3141  The gang throws Rachel goodbye party says good...  0.4019  \n",
       "234   6221  Erica gives birth baby Monica Chandler adoptin...  0.2732  \n",
       "235  10381  Phoebe races Ross airport bid stop Rachel leav... -0.2960  \n",
       "\n",
       "[236 rows x 11 columns]"
      ]
     },
     "execution_count": 17,
     "metadata": {},
     "output_type": "execute_result"
    }
   ],
   "source": [
    "df[\"SIA\"] = df.token.apply(fun.sent_analysis)\n",
    "df"
   ]
  },
  {
   "cell_type": "code",
   "execution_count": 18,
   "metadata": {},
   "outputs": [],
   "source": [
    "df.to_csv(\"data/friends.csv\")"
   ]
  },
  {
   "cell_type": "code",
   "execution_count": null,
   "metadata": {},
   "outputs": [],
   "source": []
  },
  {
   "cell_type": "code",
   "execution_count": null,
   "metadata": {},
   "outputs": [],
   "source": []
  }
 ],
 "metadata": {
  "kernelspec": {
   "display_name": "Python 3",
   "language": "python",
   "name": "python3"
  },
  "language_info": {
   "codemirror_mode": {
    "name": "ipython",
    "version": 3
   },
   "file_extension": ".py",
   "mimetype": "text/x-python",
   "name": "python",
   "nbconvert_exporter": "python",
   "pygments_lexer": "ipython3",
   "version": "3.8.5"
  }
 },
 "nbformat": 4,
 "nbformat_minor": 4
}
